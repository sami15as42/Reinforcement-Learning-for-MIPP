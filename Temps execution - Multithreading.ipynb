{
 "cells": [
  {
   "cell_type": "code",
   "execution_count": 1,
   "id": "8a12dba8",
   "metadata": {},
   "outputs": [],
   "source": [
    "import GPy\n",
    "import random\n",
    "import numpy as np\n",
    "import networkx as nx\n",
    "import matplotlib.pyplot as plt\n",
    "from matplotlib.ticker import MaxNLocator\n",
    "from IPython.display import display\n",
    "from tqdm import tqdm\n",
    "import scipy\n",
    "import time\n",
    "import threading\n",
    "\n",
    "import tensorflow as tf\n",
    "import tf_agents\n",
    "from tf_agents.environments import py_environment\n",
    "from tf_agents.environments import tf_py_environment\n",
    "from tf_agents.specs import array_spec\n",
    "from tf_agents.environments import wrappers\n",
    "from tf_agents.trajectories import time_step as ts\n",
    "from tf_agents.agents.categorical_dqn import categorical_dqn_agent\n",
    "from tf_agents.networks import categorical_q_network\n",
    "from tf_agents.trajectories import trajectory\n",
    "from tf_agents.utils import common\n",
    "\n",
    "tf.compat.v1.enable_v2_behavior()\n",
    "np.random.seed(123)\n",
    "random.seed(123)\n",
    "\n",
    "import warnings\n",
    "warnings.filterwarnings(\"ignore\")"
   ]
  },
  {
   "cell_type": "code",
   "execution_count": 2,
   "id": "dfdeb171",
   "metadata": {},
   "outputs": [
    {
     "name": "stdout",
     "output_type": "stream",
     "text": [
      "Python version:  3.9.7\n",
      "NetworkX version:  2.6.3\n",
      "Scipy version:  1.7.1\n",
      "Numpy version:  1.20.3\n",
      "GPy version:  1.10.0\n",
      "TensorFlow version:  2.8.0\n",
      "TF Agents version:  0.11.0\n"
     ]
    }
   ],
   "source": [
    "from platform import python_version\n",
    "print(\"Python version: \", python_version())\n",
    "print(\"NetworkX version: \", nx.__version__)\n",
    "print(\"Scipy version: \", scipy.__version__)\n",
    "print(\"Numpy version: \", np.__version__)\n",
    "print(\"GPy version: \", GPy.__version__)\n",
    "print(\"TensorFlow version: \", tf.__version__)\n",
    "print(\"TF Agents version: \", tf_agents.__version__)"
   ]
  },
  {
   "cell_type": "code",
   "execution_count": 2,
   "id": "683d84a2",
   "metadata": {},
   "outputs": [],
   "source": [
    "def flatten(liste):\n",
    "    return [item for sublist in liste for item in sublist]\n",
    "\n",
    "def preprocessing(X_s):\n",
    "    X = []\n",
    "    for liste in X_s:\n",
    "        X += liste.copy()\n",
    "    return np.array(X)\n",
    "\n",
    "def copie_paths(paths):\n",
    "    X = []\n",
    "    for liste in paths:\n",
    "        X.append(liste.copy())\n",
    "    return X\n",
    "\n",
    "def copy_X_D(X_D):\n",
    "    X = []\n",
    "    for liste in X_D:\n",
    "        X.append(liste.copy())\n",
    "    return np.array(X)\n",
    "\n",
    "def concatenate(x, y):\n",
    "    if len(x)==0:\n",
    "        return y\n",
    "    else:\n",
    "        return np.concatenate((x, y))\n",
    "\n",
    "def mean_confidence_interval(data, confidence=0.95):\n",
    "    a = 1.0 * np.array(data)\n",
    "    n = len(a)\n",
    "    m, se = np.mean(a), scipy.stats.sem(a)\n",
    "    h = se * scipy.stats.t.ppf((1 + confidence) / 2., n-1)\n",
    "    return m, m-h, m+h\n",
    "\n",
    "def distance(a,b):\n",
    "    return np.sqrt((a[0]-b[0])**2 + (a[1]-b[1])**2)\n",
    "        \n",
    "def sigma_matrix(gp_model, X_v):\n",
    "    return gp_model.kern.K(X_v, X_v)\n",
    "    \n",
    "def sigma_prime_matrix(gp_model, X_v, X_s):\n",
    "    kernel = gp_model.rbf\n",
    "    variance_n = float(gp_model.Gaussian_noise.variance)\n",
    "    a = kernel.K(X_v, X_v)\n",
    "    b = kernel.K(X_v, X_s)\n",
    "    c = kernel.K(X_s, X_s)\n",
    "    d = variance_n*np.eye(len(X_s))\n",
    "    e = kernel.K(X_s, X_v)\n",
    "    f = np.linalg.inv(c + d)\n",
    "    g = np.dot(b, f)\n",
    "    h = np.dot(g, e)\n",
    "    return a - h\n",
    "\n",
    "def reward_function(gp_model, X_v, X_s_old, X_s_new):\n",
    "    if len(X_s_old)==0:\n",
    "        sigma_prime_old = sigma_matrix(gp_model, X_v)\n",
    "    else:\n",
    "        sigma_prime_old = sigma_prime_matrix(gp_model, X_v, X_s_old)\n",
    "    if len(X_s_new)==0:\n",
    "        sigma_prime_new = sigma_matrix(gp_model, X_v)\n",
    "    else:\n",
    "        sigma_prime_new = sigma_prime_matrix(gp_model, X_v, X_s_new)\n",
    "    return 0.5 * (np.log(np.linalg.det(sigma_prime_old)) - np.log(np.linalg.det(sigma_prime_new)))\n",
    "\n",
    "def credit_assignment(env, reward, dones):\n",
    "    if env.nb_agents==1:\n",
    "        return np.array([reward])\n",
    "    rewards = np.zeros(env.nb_agents)\n",
    "    if reward==0:\n",
    "        return rewards\n",
    "    X_s = preprocessing(env.X_s)\n",
    "    H = np.log(np.linalg.det(sigma_prime_matrix(env.gp_model, env.X_v, X_s)))\n",
    "    for i in range(env.nb_agents):\n",
    "        if not dones[i]:\n",
    "            X_s_i = env.X_s.copy()\n",
    "            del X_s_i[i]\n",
    "            X_s_i = preprocessing(X_s_i)\n",
    "            if len(X_s_i)==0:\n",
    "                rewards[i] = 0.5 * (np.log(np.linalg.det(sigma_matrix(env.gp_model, env.X_v))) - H)\n",
    "            else:\n",
    "                rewards[i] = 0.5 * (np.log(np.linalg.det(sigma_prime_matrix(env.gp_model, env.X_v, X_s_i))) - H)\n",
    "    somme = np.sum(rewards)\n",
    "    if somme==0:\n",
    "        return rewards\n",
    "    return rewards*(reward/(np.sum(rewards)))\n",
    "\n",
    "def construct_graph(graph_dim, graph_unity):\n",
    "    x = graph_dim[0]\n",
    "    y = graph_dim[1]\n",
    "    i, j = 0.0, 0.0\n",
    "    graph = nx.Graph()\n",
    "    for k in range(x*y):\n",
    "        graph.add_node(k, coord=[i, j])\n",
    "        i += graph_unity\n",
    "        if i==x*graph_unity:\n",
    "            i = 0.0\n",
    "            j += graph_unity\n",
    "    for k in range(x*y):\n",
    "        if (k+1)%x!=0:\n",
    "            graph.add_edge(k, k+1)\n",
    "        if k<x*y-x:\n",
    "            graph.add_edge(k, k+x)\n",
    "    return graph\n",
    "            \n",
    "def show_graph(graph):\n",
    "    nx.draw(graph, with_labels=True, font_weight='bold')\n",
    "\n",
    "def remove_nodes_from_graph(graph, liste):\n",
    "    graph.remove_nodes_from(liste)\n",
    "    return graph\n",
    "\n",
    "def incertitude_initiale(sigma, graph):\n",
    "    return 0.5 * np.log(np.linalg.det(sigma)) + (graph.number_of_nodes()/2) * (1 + np.log(2*np.pi))\n",
    "\n",
    "def coord_to_id(coord, graph_dim):\n",
    "    return graph_dim[0] * int(coord[1]) + int(coord[0])"
   ]
  },
  {
   "cell_type": "code",
   "execution_count": 3,
   "id": "fc691978",
   "metadata": {},
   "outputs": [],
   "source": [
    "def collect_pilot_data(nb_agents, exploration_steps, graph, graph_dim, means, variance, lengthscale, memory_window, gamma):\n",
    "    X_D = np.array([graph.nodes[i][\"coord\"] for i in range(graph.number_of_nodes())])\n",
    "    simulation_kernel = GPy.kern.RBF(input_dim = 2, variance=variance, lengthscale=lengthscale)\n",
    "    cov = simulation_kernel.K(X_D)\n",
    "    X, Y = [], []\n",
    "    for _ in range(exploration_steps):\n",
    "        Y_D = np.random.multivariate_normal(np.array(means), cov, 1)[0]\n",
    "        Y_D = np.reshape(Y_D, (len(Y_D),1))\n",
    "        Y_D[Y_D<0] = 0.1\n",
    "        sparse_nodes = random.sample(range(0, graph.number_of_nodes()), nb_agents)\n",
    "        sorted_nodes = sorted(sparse_nodes)\n",
    "        if sorted_nodes[0]==0:\n",
    "            for i in range(1,len(sorted_nodes)):\n",
    "                if sorted_nodes[i]!=sorted_nodes[i-1]:\n",
    "                    l = covariances[sorted_nodes[i]-1]\n",
    "                    l[0], l[1], l[2], l[3] = weighted_covariance(l[0], l[1], l[2], l[3], Y_D[0], Y_D[sorted_nodes[i]], memory_window, gamma)\n",
    "        X.append(X_D[sparse_nodes])\n",
    "        Y.append(Y_D[sparse_nodes])\n",
    "    return incertitude_initiale(cov, graph), np.array(X), np.array(Y)\n",
    "\n",
    "def hyperparameters_estimator(X, Y, gp_model, graph, graph_dim, memory_window, gamma):\n",
    "    for i in range(len(X)):\n",
    "        l = variances[coord_to_id(X[i], graph_dim)]\n",
    "        l[0], l[1], l[2] = weighted_variance(l[0], l[1], l[2], Y[i][0], memory_window, gamma)\n",
    "    cumul_var = 0\n",
    "    coeffs = 0\n",
    "    for ele in variances:\n",
    "        coeffs += ele[2]\n",
    "        cumul_var += float(ele[0])*ele[2]\n",
    "    variance = cumul_var/coeffs\n",
    "    ###########################################\n",
    "    X_v = np.array([graph.nodes[i][\"coord\"] for i in range(graph.number_of_nodes())])\n",
    "    moyenne = np.reshape(gp_model.predict(X_v)[0], (graph.number_of_nodes(),))\n",
    "    ###########################################\n",
    "    lengthscale, cpt = 0, 0\n",
    "    for i in range(len(covariances)):\n",
    "        if covariances[i][0]>1:\n",
    "            covariance = covariances[i][1] - covariances[i][2]*covariances[i][3]\n",
    "            if 0<covariance<variance:\n",
    "                cpt += covariances[i][0]\n",
    "                lengthscale += find_lengthscale(X_v[0], X_v[i+1], covariance, variance) * covariances[i][0]\n",
    "    if cpt!=0:\n",
    "        lengthscale /= cpt\n",
    "    else:\n",
    "        lengthscale = 0\n",
    "    return moyenne, variance, lengthscale\n",
    "\n",
    "def find_lengthscale(x1, x2, y, var):\n",
    "    return distance(x1, x2) * np.sqrt(-0.5/np.log(y/var))\n",
    "\n",
    "def weighted_covariance(n, moy_prod, moy_x, moy_y, x_new, y_new, memory_capacity, gamma):\n",
    "    if n>memory_capacity:\n",
    "        return n + 1, gamma * moy_prod + (1-gamma) * x_new * y_new, gamma * moy_x + (1-gamma) * x_new, gamma * moy_y + (1-gamma) * y_new\n",
    "    return n + 1, (n * moy_prod + x_new * y_new)/(n + 1), (n * moy_x + x_new)/(n + 1), (n * moy_y + y_new)/(n + 1)\n",
    "\n",
    "def weighted_variance(var, moy, n, x_new, memory_capacity, gamma):\n",
    "    if n>memory_capacity:\n",
    "        a = gamma*(var+(moy**2)) + (1-gamma)*(x_new**2)\n",
    "        moy = gamma * moy + (1-gamma) * x_new\n",
    "    else:\n",
    "        a = (n*(var+(moy**2)) + (x_new**2))/(n+1)\n",
    "        moy = (n*moy+x_new)/(n+1)\n",
    "    return a-moy**2, moy, n+1"
   ]
  },
  {
   "cell_type": "code",
   "execution_count": 4,
   "id": "60e90449",
   "metadata": {},
   "outputs": [
    {
     "name": "stdout",
     "output_type": "stream",
     "text": [
      "Variance:  7.102587673500872\n",
      "Lengthscale:  [2.04531066]\n",
      "Carte:  [59.73235482 32.29178614 19.96140899 14.6273486   9.62287523 32.11552907\n",
      " 26.32580708 23.42204559 16.75472862  9.0532632  18.12702558 23.24095112\n",
      " 24.13850122 19.03094347 12.9759214  12.87103999 16.8960803  18.73692827\n",
      " 17.90248296 14.38394321  9.96150552  9.2792381  11.34516906 14.47060808\n",
      " 12.80547446]\n",
      "Incertitude initiale :  76.51867934794961\n"
     ]
    }
   ],
   "source": [
    "graph_dim = (5, 5)\n",
    "graph_unity = 1\n",
    "graph = construct_graph(graph_dim, graph_unity)\n",
    "X_v = np.array([graph.nodes[i][\"coord\"] for i in range(graph.number_of_nodes())])\n",
    "means = [60, 30, 20, 15, 10, 30, 27.5, 25, 17.5, 11.25, 20, 25, 22.5, 20, 12.5, 15, 17.5, 20, 17.5, 15, 10, 11.25, 12.5, 15, 12.5]\n",
    "nb_agents = 6\n",
    "exploration_steps = 25\n",
    "variance_lengthscale = [10, 2]\n",
    "memory_window = 1000\n",
    "gamma = 0.997\n",
    "\n",
    "variances = [[0, 0, 0] for _ in range(graph.number_of_nodes())]\n",
    "covariances = [[0, 0, 0, 0] for _ in range(graph.number_of_nodes()-1)]\n",
    "\n",
    "incertitude, x, y = collect_pilot_data(nb_agents, exploration_steps, graph, graph_dim, means, variance_lengthscale[0], variance_lengthscale[1], memory_window, gamma)\n",
    "\n",
    "x = np.reshape(x, (nb_agents*exploration_steps,2))\n",
    "y = np.reshape(y, (nb_agents*exploration_steps,1))\n",
    "\n",
    "gp_model = GPy.models.GPRegression(x, y, GPy.kern.RBF(2))\n",
    "gp_model.optimize(messages=False)\n",
    "\n",
    "moyenne, var, l = hyperparameters_estimator(x, y, gp_model, graph, graph_dim, memory_window, gamma)\n",
    "print(\"Variance: \", var)\n",
    "print(\"Lengthscale: \", l)\n",
    "print(\"Carte: \", moyenne)\n",
    "print(\"Incertitude initiale : \", incertitude_initiale(sigma_matrix(gp_model, X_v), graph))"
   ]
  },
  {
   "cell_type": "code",
   "execution_count": null,
   "id": "74bb46a3",
   "metadata": {},
   "outputs": [],
   "source": []
  },
  {
   "cell_type": "code",
   "execution_count": null,
   "id": "5f017e26",
   "metadata": {},
   "outputs": [],
   "source": []
  },
  {
   "cell_type": "code",
   "execution_count": null,
   "id": "a95bbca0",
   "metadata": {},
   "outputs": [],
   "source": []
  },
  {
   "cell_type": "code",
   "execution_count": 5,
   "id": "542d999c",
   "metadata": {},
   "outputs": [],
   "source": [
    "def update_gp_model(gp_model, x, y, graph, graph_dim, memory_window, gamma, display_gp_model=False):\n",
    "    moy, variance, lengthscale = hyperparameters_estimator(x, y, gp_model, graph, graph_dim, memory_window, gamma)\n",
    "    X = np.concatenate((gp_model.X, x))[-1000:]\n",
    "    Y = np.concatenate((gp_model.Y, y))[-1000:]\n",
    "    gp_model.set_XY(X, Y)\n",
    "    gp_model.optimize(messages=False)\n",
    "    if display_gp_model:\n",
    "        display(gp_model)\n",
    "    return gp_model, moy, variance, lengthscale\n",
    "\n",
    "def take_measurements(nodes, means, X_v, memory_window, gamma):\n",
    "    simulation_kernel = GPy.kern.RBF(input_dim = 2, variance=variance_lengthscale[0], lengthscale=variance_lengthscale[1])\n",
    "    cov = simulation_kernel.K(X_v)\n",
    "    Y_v = np.random.multivariate_normal(np.array(means), cov, 1)[0]\n",
    "    Y_v = np.reshape(Y_v, (len(Y_v),1))\n",
    "    Y_v[Y_v<0] = 0.1\n",
    "    sorted_nodes = sorted(nodes)\n",
    "    if sorted_nodes[0]==0:\n",
    "        for i in range(1,len(sorted_nodes)):\n",
    "            if sorted_nodes[i]!=sorted_nodes[i-1]:\n",
    "                l = covariances[sorted_nodes[i]-1]\n",
    "                l[0], l[1], l[2], l[3] = weighted_covariance(l[0], l[1], l[2], l[3], Y_v[0], Y_v[sorted_nodes[i]], memory_window, gamma)\n",
    "    return X_v[nodes], Y_v[nodes]"
   ]
  },
  {
   "cell_type": "code",
   "execution_count": 6,
   "id": "8b643543",
   "metadata": {},
   "outputs": [],
   "source": [
    "class pfeEnv(py_environment.PyEnvironment):\n",
    "\n",
    "    def __init__(self, graph, gp_model, nb_agents, budgets, graph_unity, graph_dim, initial_positions, variance_0, lengthscale_0, memory_window, gamma, train_env=True):\n",
    "        self.nb_agents = nb_agents\n",
    "        self.graph = graph\n",
    "        self.graph_unity = graph_unity\n",
    "        self.graph_dim = graph_dim\n",
    "        self.initial_budgets = budgets/self.graph_unity\n",
    "        self.budgets = self.initial_budgets.copy()\n",
    "        if initial_positions!=None:\n",
    "            self.initial_positions = copie_paths(initial_positions)\n",
    "            self.paths = copie_paths(initial_positions)\n",
    "        else:\n",
    "            self.initial_positions = None\n",
    "            self.paths = [[random.randint(0, self.graph.number_of_nodes()-1)] for i in range(self.nb_agents)]\n",
    "        self.neighbors = [sorted(list(self.graph.neighbors(self.current_node(i)))) for i in range(self.nb_agents)]\n",
    "        self.formater()\n",
    "        self.X_v = np.array([self.graph.nodes[i][\"coord\"] for i in range(self.graph.number_of_nodes())])\n",
    "        self.gp_model = gp_model\n",
    "        self.X_s = [[] for i in range(self.nb_agents)]\n",
    "        self.dones = [False for i in range(self.nb_agents)]\n",
    "        self.cpt_done = 0\n",
    "        self._action_spec = array_spec.BoundedArraySpec(shape=(), dtype=np.int32, minimum=0, maximum=3, name=\"action\")\n",
    "        self._observation_spec = array_spec.BoundedArraySpec(shape=(self.nb_agents*2,), dtype=np.float32, minimum=np.zeros((self.nb_agents*2,)), name=\"observation\")\n",
    "        self._state = flatten([self.graph.nodes[self.current_node(i)][\"coord\"] for i in range(self.nb_agents)])\n",
    "        self._episode_ended = False\n",
    "        #################################\n",
    "        self.cpt_update_gp_model = 0\n",
    "        self.memory_window, self.gamma = memory_window, gamma\n",
    "        self.x, self.y = np.array([]), np.array([])\n",
    "        self.liste_variances, self.liste_lengthscales = [variance_0], [lengthscale_0]\n",
    "        self.train_env = train_env\n",
    "        \n",
    "    def current_node(self, id_agent):\n",
    "        return self.paths[id_agent][-1]\n",
    "\n",
    "    def action_spec(self):\n",
    "        return self._action_spec\n",
    "\n",
    "    def observation_spec(self):\n",
    "        return self._observation_spec\n",
    "    \n",
    "    def formater(self):\n",
    "        for i in range(len(self.neighbors)):\n",
    "            liste = self.neighbors[i]\n",
    "            node = self.current_node(i)\n",
    "            try:\n",
    "                if liste[0]>=node-1:\n",
    "                    liste.insert(0,-1)\n",
    "                if liste[1]!=node-1:\n",
    "                    liste.insert(1,-1)\n",
    "                if liste[2]!=node+1:\n",
    "                    liste.insert(2,-1)\n",
    "            except:\n",
    "                pass\n",
    "            for _ in range(4-len(liste)):\n",
    "                liste.append(-1)\n",
    "\n",
    "    def _reset(self):\n",
    "        if self.initial_positions!=None:\n",
    "            self.paths = copie_paths(self.initial_positions)\n",
    "        else:\n",
    "            self.paths = [[random.randint(0, self.graph.number_of_nodes()-1)] for i in range(self.nb_agents)]\n",
    "        self._state = flatten([self.graph.nodes[self.current_node(i)][\"coord\"] for i in range(self.nb_agents)])\n",
    "        self.neighbors = [sorted(list(self.graph.neighbors(self.current_node(i)))) for i in range(self.nb_agents)] \n",
    "        self.formater()\n",
    "        self.budgets = self.initial_budgets.copy()\n",
    "        self.X_s = [[] for i in range(self.nb_agents)]\n",
    "        self.dones = [False for i in range(self.nb_agents)]\n",
    "        self.cpt_done = 0\n",
    "        self._episode_ended = False\n",
    "        return ts.restart(np.array(self._state, dtype=np.float32))\n",
    "        \n",
    "    def _step(self, abstract_actions):\n",
    "        if self._episode_ended:\n",
    "            return self.reset()\n",
    "        actions = []\n",
    "        for i in range(self.nb_agents):\n",
    "            actions.append(self.neighbors[i][abstract_actions[i]])\n",
    "        X_s_old = preprocessing(self.X_s)\n",
    "        for i in range(self.nb_agents):\n",
    "            if not self.dones[i]:\n",
    "                if actions[i]!=-1:\n",
    "                    self.X_s[i].append([graph.nodes[actions[i]][\"coord\"][0], graph.nodes[actions[i]][\"coord\"][1]])\n",
    "                    self.budgets[i] -= 1\n",
    "                else:\n",
    "                    actions[i] = self.current_node(i)\n",
    "                    self.budgets[i] -= 0.3\n",
    "                if self.budgets[i]<1:\n",
    "                    self.dones[i] = True\n",
    "                    self.cpt_done += 1\n",
    "                self.paths[i].append(actions[i])\n",
    "                coord = self.graph.nodes[self.current_node(i)][\"coord\"]\n",
    "                self._state[2*i] = coord[0]\n",
    "                self._state[2*i+1] = coord[1]\n",
    "        \n",
    "        if self.train_env:\n",
    "            positions, mesures = take_measurements(actions, means, self.X_v, self.memory_window, self.gamma)\n",
    "            self.x = concatenate(self.x, positions)\n",
    "            self.y = concatenate(self.y, mesures)\n",
    "            self.cpt_update_gp_model = (self.cpt_update_gp_model + 1)%100\n",
    "            if self.cpt_update_gp_model==0:\n",
    "                self.gp_model, m, var, l = update_gp_model(self.gp_model, self.x, self.y, self.graph, self.graph_dim, self.memory_window, self.gamma)\n",
    "                self.liste_variances.append(var)\n",
    "                self.liste_lengthscales.append(l)\n",
    "                self.moy = m\n",
    "                self.x, self.y = np.array([]), np.array([])\n",
    "        \n",
    "        self.neighbors = [sorted(list(self.graph.neighbors(self.current_node(i)))) for i in range(self.nb_agents)]\n",
    "        self.formater()\n",
    "        reward = reward_function(self.gp_model, self.X_v, X_s_old, preprocessing(self.X_s))\n",
    "        if self.cpt_done==self.nb_agents:\n",
    "            self._episode_ended = True\n",
    "            return ts.termination(np.array(self._state, dtype=np.float32), reward)\n",
    "        return ts.transition(np.array(self._state, dtype=np.float32), reward=reward, discount=0.97)"
   ]
  },
  {
   "cell_type": "code",
   "execution_count": 7,
   "id": "6baa6a76",
   "metadata": {},
   "outputs": [],
   "source": [
    "num_iterations = 10000\n",
    "fc_layer_params = (128,64,)\n",
    "replay_buffer_capacity = 300000\n",
    "batch_size = 128\n",
    "learning_rate = 1e-5\n",
    "\n",
    "num_atoms = 51\n",
    "min_q_value = -20\n",
    "max_q_value = 20\n",
    "n_step_update = 3\n",
    "gamma = 0.99\n",
    "\n",
    "num_eval_episodes = 10\n",
    "log_eval_interval = 1000\n",
    "\n",
    "max_episode_length = 25\n",
    "budgets = 25 * np.ones(nb_agents)"
   ]
  },
  {
   "cell_type": "code",
   "execution_count": 8,
   "id": "d93bc57c",
   "metadata": {},
   "outputs": [],
   "source": [
    "initial_positions = None #[[random.randint(0, graph.number_of_nodes()-1)] for i in range(nb_agents)]\n",
    "train_py_env = wrappers.TimeLimit(pfeEnv(graph, gp_model, nb_agents, budgets, graph_unity, graph_dim, initial_positions, var, l, memory_window, gamma, train_env=True), duration=max_episode_length)\n",
    "eval_py_env = wrappers.TimeLimit(pfeEnv(graph, gp_model, nb_agents, budgets, graph_unity, graph_dim, initial_positions, var, l, memory_window, gamma, train_env=False), duration=max_episode_length)\n",
    "\n",
    "train_env = tf_py_environment.TFPyEnvironment(train_py_env)\n",
    "eval_env = tf_py_environment.TFPyEnvironment(eval_py_env)\n",
    "\n",
    "agents_tf = []\n",
    "eval_policies = []\n",
    "collect_policies = []\n",
    "policies_checkpointers = []\n",
    "\n",
    "for i in range(nb_agents):\n",
    "    categorical_q_net = categorical_q_network.CategoricalQNetwork(\n",
    "        train_env.observation_spec(),\n",
    "        train_env.action_spec(),\n",
    "        num_atoms=num_atoms,\n",
    "        fc_layer_params=fc_layer_params)\n",
    "        \n",
    "    optimizer = tf.compat.v1.train.AdamOptimizer(learning_rate=learning_rate)\n",
    "\n",
    "    train_step_counter = tf.compat.v2.Variable(0)\n",
    "\n",
    "    agents_tf.append(categorical_dqn_agent.CategoricalDqnAgent(\n",
    "        train_env.time_step_spec(),\n",
    "        train_env.action_spec(),\n",
    "        categorical_q_network=categorical_q_net,\n",
    "        optimizer=optimizer,\n",
    "        min_q_value=min_q_value,\n",
    "        max_q_value=max_q_value,\n",
    "        n_step_update=n_step_update,\n",
    "        target_update_period=5,\n",
    "        target_update_tau=0.05,\n",
    "        td_errors_loss_fn=common.element_wise_squared_loss,\n",
    "        gamma=gamma,\n",
    "        train_step_counter=train_step_counter))\n",
    "\n",
    "    agents_tf[-1].initialize()\n",
    "\n",
    "    eval_policies.append(agents_tf[-1].policy)\n",
    "    collect_policies.append(agents_tf[-1].collect_policy)\n",
    "    \n",
    "    policies_checkpointers.append(common.Checkpointer(ckpt_dir='MultiThreading_Politique_'+str(i), policy=eval_policies[-1]))"
   ]
  },
  {
   "cell_type": "code",
   "execution_count": 9,
   "id": "562a871b",
   "metadata": {},
   "outputs": [],
   "source": [
    "def compute_avg_return(environment, policies, num_episodes=10):\n",
    "    total_return = 0.0\n",
    "    for _ in range(num_episodes):\n",
    "        time_step = environment.reset()\n",
    "        episode_return = 0.0\n",
    "        while not time_step.is_last():\n",
    "            actions = []\n",
    "            for i in range(nb_agents):\n",
    "                actions.append(policies[i].action(time_step).action.numpy()[0])\n",
    "            actions = tf.convert_to_tensor([actions])\n",
    "            time_step = environment.step(actions)\n",
    "            episode_return += time_step.reward\n",
    "        total_return += episode_return\n",
    "    avg_return = total_return / num_episodes\n",
    "    return avg_return.numpy()[0]\n",
    "\n",
    "def collect_step(environment, environment_py, policies):\n",
    "    time_step = environment.current_time_step()\n",
    "    actions = []\n",
    "    actions_step = []\n",
    "    dones = environment_py.dones.copy()\n",
    "    for i in range(nb_agents):\n",
    "        actions_step.append(policies[i].action(time_step))\n",
    "        actions.append(actions_step[-1].action.numpy()[0])\n",
    "    actions = tf.convert_to_tensor([actions])\n",
    "    next_time_step = environment.step(actions)\n",
    "    rewards = credit_assignment(environment_py, next_time_step.reward.numpy()[0], dones)\n",
    "    for i in range(nb_agents):\n",
    "        if not dones[i]:\n",
    "            nts = next_time_step._replace(reward=tf.convert_to_tensor([rewards[i]], dtype=np.float32))\n",
    "            traj = trajectory.from_transition(time_step, actions_step[i], nts)\n",
    "            replay_buffers[i].add_batch(traj)\n",
    "            \n",
    "class Train_Thread(threading.Thread):\n",
    "    def __init__(self, event, iterator, agent):\n",
    "        threading.Thread.__init__(self)\n",
    "        self.event = event\n",
    "        self.iterator = iterator\n",
    "        self.agent = agent\n",
    "\n",
    "    def run(self):\n",
    "        experience, _ = next(self.iterator)\n",
    "        self.agent.train(experience=experience)\n",
    "        self.event.set()"
   ]
  },
  {
   "cell_type": "code",
   "execution_count": 11,
   "id": "5ea3fe65",
   "metadata": {},
   "outputs": [],
   "source": [
    "replay_buffers = []\n",
    "for i in range(nb_agents):\n",
    "    replay_buffers.append(tf_agents.replay_buffers.TFUniformReplayBuffer(\n",
    "        data_spec = agents_tf[i].collect_data_spec,\n",
    "        batch_size = train_env.batch_size,\n",
    "        max_length = replay_buffer_capacity))\n",
    "\n",
    "iterators = []\n",
    "for i in range(nb_agents):\n",
    "    dataset = replay_buffers[i].as_dataset(\n",
    "        num_parallel_calls=3,\n",
    "        sample_batch_size=batch_size,\n",
    "        num_steps=2).prefetch(3)\n",
    "\n",
    "    iterators.append(iter(dataset))"
   ]
  },
  {
   "cell_type": "code",
   "execution_count": 12,
   "id": "f61a627d",
   "metadata": {
    "scrolled": true
   },
   "outputs": [
    {
     "name": "stdout",
     "output_type": "stream",
     "text": [
      "18.762167\n"
     ]
    },
    {
     "name": "stderr",
     "output_type": "stream",
     "text": [
      "100%|██████████████████████████████████████████████████████████████████████████████| 1000/1000 [00:56<00:00, 17.63it/s]\n",
      "  0%|                                                                                        | 0/10000 [00:00<?, ?it/s]"
     ]
    },
    {
     "name": "stdout",
     "output_type": "stream",
     "text": [
      "WARNING:tensorflow:From C:\\Users\\hm_as\\anaconda3\\lib\\site-packages\\tensorflow\\python\\util\\dispatch.py:1082: calling foldr_v2 (from tensorflow.python.ops.functional_ops) with back_prop=False is deprecated and will be removed in a future version.\n",
      "Instructions for updating:\n",
      "back_prop=False is deprecated. Consider using tf.stop_gradient instead.\n",
      "Instead of:\n",
      "results = tf.foldr(fn, elems, back_prop=False)\n",
      "Use:\n",
      "results = tf.nest.map_structure(tf.stop_gradient, tf.foldr(fn, elems))\n"
     ]
    },
    {
     "name": "stderr",
     "output_type": "stream",
     "text": [
      "WARNING:tensorflow:From C:\\Users\\hm_as\\anaconda3\\lib\\site-packages\\tensorflow\\python\\util\\dispatch.py:1082: calling foldr_v2 (from tensorflow.python.ops.functional_ops) with back_prop=False is deprecated and will be removed in a future version.\n",
      "Instructions for updating:\n",
      "back_prop=False is deprecated. Consider using tf.stop_gradient instead.\n",
      "Instead of:\n",
      "results = tf.foldr(fn, elems, back_prop=False)\n",
      "Use:\n",
      "results = tf.nest.map_structure(tf.stop_gradient, tf.foldr(fn, elems))\n"
     ]
    },
    {
     "name": "stdout",
     "output_type": "stream",
     "text": [
      "WARNING:tensorflow:5 out of the last 5 calls to <bound method TFAgent.train of <tf_agents.agents.categorical_dqn.categorical_dqn_agent.CategoricalDqnAgent object at 0x00000263C10A49D0>> triggered tf.function retracing. Tracing is expensive and the excessive number of tracings could be due to (1) creating @tf.function repeatedly in a loop, (2) passing tensors with different shapes, (3) passing Python objects instead of tensors. For (1), please define your @tf.function outside of the loop. For (2), @tf.function has experimental_relax_shapes=True option that relaxes argument shapes that can avoid unnecessary retracing. For (3), please refer to https://www.tensorflow.org/guide/function#controlling_retracing and https://www.tensorflow.org/api_docs/python/tf/function for  more details.\n"
     ]
    },
    {
     "name": "stderr",
     "output_type": "stream",
     "text": [
      "WARNING:tensorflow:5 out of the last 5 calls to <bound method TFAgent.train of <tf_agents.agents.categorical_dqn.categorical_dqn_agent.CategoricalDqnAgent object at 0x00000263C10A49D0>> triggered tf.function retracing. Tracing is expensive and the excessive number of tracings could be due to (1) creating @tf.function repeatedly in a loop, (2) passing tensors with different shapes, (3) passing Python objects instead of tensors. For (1), please define your @tf.function outside of the loop. For (2), @tf.function has experimental_relax_shapes=True option that relaxes argument shapes that can avoid unnecessary retracing. For (3), please refer to https://www.tensorflow.org/guide/function#controlling_retracing and https://www.tensorflow.org/api_docs/python/tf/function for  more details.\n"
     ]
    },
    {
     "name": "stdout",
     "output_type": "stream",
     "text": [
      "WARNING:tensorflow:6 out of the last 6 calls to <bound method TFAgent.train of <tf_agents.agents.categorical_dqn.categorical_dqn_agent.CategoricalDqnAgent object at 0x00000263C21020A0>> triggered tf.function retracing. Tracing is expensive and the excessive number of tracings could be due to (1) creating @tf.function repeatedly in a loop, (2) passing tensors with different shapes, (3) passing Python objects instead of tensors. For (1), please define your @tf.function outside of the loop. For (2), @tf.function has experimental_relax_shapes=True option that relaxes argument shapes that can avoid unnecessary retracing. For (3), please refer to https://www.tensorflow.org/guide/function#controlling_retracing and https://www.tensorflow.org/api_docs/python/tf/function for  more details.\n"
     ]
    },
    {
     "name": "stderr",
     "output_type": "stream",
     "text": [
      "WARNING:tensorflow:6 out of the last 6 calls to <bound method TFAgent.train of <tf_agents.agents.categorical_dqn.categorical_dqn_agent.CategoricalDqnAgent object at 0x00000263C21020A0>> triggered tf.function retracing. Tracing is expensive and the excessive number of tracings could be due to (1) creating @tf.function repeatedly in a loop, (2) passing tensors with different shapes, (3) passing Python objects instead of tensors. For (1), please define your @tf.function outside of the loop. For (2), @tf.function has experimental_relax_shapes=True option that relaxes argument shapes that can avoid unnecessary retracing. For (3), please refer to https://www.tensorflow.org/guide/function#controlling_retracing and https://www.tensorflow.org/api_docs/python/tf/function for  more details.\n",
      " 10%|███████▌                                                                   | 1003/10000 [01:31<1:59:38,  1.25it/s]"
     ]
    },
    {
     "name": "stdout",
     "output_type": "stream",
     "text": [
      "step = 1000: Average Return = 27.405838012695312\n",
      "Variance :  10.709488351109\n",
      "Lengthscale :  [2.13064145]\n",
      "MSE de la moyenne :  0.7996988361689027\n"
     ]
    },
    {
     "name": "stderr",
     "output_type": "stream",
     "text": [
      " 20%|███████████████                                                            | 2001/10000 [03:09<2:33:29,  1.15s/it]"
     ]
    },
    {
     "name": "stdout",
     "output_type": "stream",
     "text": [
      "step = 2000: Average Return = 35.26365280151367\n",
      "Variance :  9.788293102841115\n",
      "Lengthscale :  [2.05474622]\n",
      "MSE de la moyenne :  0.44548544647457533\n"
     ]
    },
    {
     "name": "stderr",
     "output_type": "stream",
     "text": [
      " 30%|██████████████████████▌                                                    | 3001/10000 [04:51<2:17:10,  1.18s/it]"
     ]
    },
    {
     "name": "stdout",
     "output_type": "stream",
     "text": [
      "step = 3000: Average Return = 46.91075897216797\n",
      "Variance :  10.197598536956077\n",
      "Lengthscale :  [2.13042033]\n",
      "MSE de la moyenne :  0.2811363441050984\n"
     ]
    },
    {
     "name": "stderr",
     "output_type": "stream",
     "text": [
      " 40%|██████████████████████████████                                             | 4001/10000 [06:33<2:01:02,  1.21s/it]"
     ]
    },
    {
     "name": "stdout",
     "output_type": "stream",
     "text": [
      "step = 4000: Average Return = 46.668975830078125\n",
      "Variance :  9.899997953261488\n",
      "Lengthscale :  [2.14452807]\n",
      "MSE de la moyenne :  0.9059393524120243\n"
     ]
    },
    {
     "name": "stderr",
     "output_type": "stream",
     "text": [
      " 50%|█████████████████████████████████████▌                                     | 5001/10000 [08:19<1:37:10,  1.17s/it]"
     ]
    },
    {
     "name": "stdout",
     "output_type": "stream",
     "text": [
      "step = 5000: Average Return = 38.733375549316406\n",
      "Variance :  9.83167328093306\n",
      "Lengthscale :  [2.03568202]\n",
      "MSE de la moyenne :  0.6063467288321671\n"
     ]
    },
    {
     "name": "stderr",
     "output_type": "stream",
     "text": [
      " 60%|█████████████████████████████████████████████                              | 6001/10000 [10:05<1:18:06,  1.17s/it]"
     ]
    },
    {
     "name": "stdout",
     "output_type": "stream",
     "text": [
      "step = 6000: Average Return = 39.37042999267578\n",
      "Variance :  9.946631064524793\n",
      "Lengthscale :  [1.97589207]\n",
      "MSE de la moyenne :  0.2660092742205869\n"
     ]
    },
    {
     "name": "stderr",
     "output_type": "stream",
     "text": [
      " 70%|█████████████████████████████████████████████████████▉                       | 7001/10000 [11:46<58:38,  1.17s/it]"
     ]
    },
    {
     "name": "stdout",
     "output_type": "stream",
     "text": [
      "step = 7000: Average Return = 38.1429557800293\n",
      "Variance :  10.236356903893352\n",
      "Lengthscale :  [1.92354838]\n",
      "MSE de la moyenne :  0.2843289733572205\n"
     ]
    },
    {
     "name": "stderr",
     "output_type": "stream",
     "text": [
      " 80%|█████████████████████████████████████████████████████████████▌               | 8001/10000 [13:31<40:26,  1.21s/it]"
     ]
    },
    {
     "name": "stdout",
     "output_type": "stream",
     "text": [
      "step = 8000: Average Return = 39.71796417236328\n",
      "Variance :  9.815240706676525\n",
      "Lengthscale :  [2.0663591]\n",
      "MSE de la moyenne :  0.47892675054518\n"
     ]
    },
    {
     "name": "stderr",
     "output_type": "stream",
     "text": [
      " 90%|█████████████████████████████████████████████████████████████████████▎       | 9001/10000 [15:17<20:00,  1.20s/it]"
     ]
    },
    {
     "name": "stdout",
     "output_type": "stream",
     "text": [
      "step = 9000: Average Return = 41.045265197753906\n",
      "Variance :  9.653586735831826\n",
      "Lengthscale :  [1.99013854]\n",
      "MSE de la moyenne :  0.40536941577409813\n"
     ]
    },
    {
     "name": "stderr",
     "output_type": "stream",
     "text": [
      "100%|████████████████████████████████████████████████████████████████████████████| 10000/10000 [16:57<00:00,  9.82it/s]"
     ]
    },
    {
     "name": "stdout",
     "output_type": "stream",
     "text": [
      "step = 10000: Average Return = 40.41889190673828\n",
      "Variance :  9.737297430566214\n",
      "Lengthscale :  [1.96336217]\n",
      "MSE de la moyenne :  0.31579430700928823\n",
      "Execution Time:  997.2269973754883\n"
     ]
    },
    {
     "name": "stderr",
     "output_type": "stream",
     "text": [
      "\n"
     ]
    }
   ],
   "source": [
    "print(compute_avg_return(eval_env, eval_policies, num_eval_episodes))\n",
    "\n",
    "steps = []\n",
    "avg = []\n",
    "err = []\n",
    "\n",
    "start = time.time()\n",
    "for i in range(nb_agents):\n",
    "    agents_tf[i].train = common.function(agents_tf[i].train)\n",
    "    agents_tf[i].train_step_counter.assign(0)\n",
    "\n",
    "for _ in tqdm(range(1000)):\n",
    "    collect_step(train_env, train_py_env, collect_policies)\n",
    "events = [threading.Event() for _ in range(nb_agents)]\n",
    "temps_execution = time.time() - start\n",
    "\n",
    "for step in tqdm(range(1, num_iterations+1)):\n",
    "    start = time.time()\n",
    "    for _ in range(1):\n",
    "        collect_step(train_env, train_py_env, collect_policies)\n",
    "        \n",
    "    for event in events:\n",
    "        event.clear()\n",
    "    \n",
    "    for i in range(nb_agents):\n",
    "        thread = Train_Thread(events[i], iterators[i], agents_tf[i])\n",
    "        thread.start()\n",
    "        \n",
    "    for event in events:\n",
    "        event.wait()\n",
    "\n",
    "    temps_execution += (time.time() - start) \n",
    "    if step%log_eval_interval==0:\n",
    "        avg_return = compute_avg_return(eval_env, eval_policies, num_eval_episodes)\n",
    "        steps.append(step)\n",
    "        avg.append(avg_return)\n",
    "        print('step = {0}: Average Return = {1}'.format(step, avg_return))\n",
    "        print(\"Variance : \", train_py_env.liste_variances[-1])\n",
    "        print(\"Lengthscale : \", train_py_env.liste_lengthscales[-1])\n",
    "        err.append(np.mean((train_py_env.moy-means)**2))\n",
    "        print(\"MSE de la moyenne : \", err[-1])\n",
    "\n",
    "print(\"Execution Time: \", temps_execution)"
   ]
  },
  {
   "cell_type": "code",
   "execution_count": 12,
   "id": "1bcd59fd",
   "metadata": {
    "scrolled": true
   },
   "outputs": [
    {
     "name": "stdout",
     "output_type": "stream",
     "text": [
      "19.535397\n"
     ]
    },
    {
     "name": "stderr",
     "output_type": "stream",
     "text": [
      "100%|██████████████████████████████████████████████████████████████████████████████| 1000/1000 [01:01<00:00, 16.23it/s]\n",
      "  0%|                                                                                        | 0/10000 [00:00<?, ?it/s]"
     ]
    },
    {
     "name": "stdout",
     "output_type": "stream",
     "text": [
      "WARNING:tensorflow:From C:\\Users\\hm_as\\anaconda3\\lib\\site-packages\\tensorflow\\python\\util\\dispatch.py:1082: calling foldr_v2 (from tensorflow.python.ops.functional_ops) with back_prop=False is deprecated and will be removed in a future version.\n",
      "Instructions for updating:\n",
      "back_prop=False is deprecated. Consider using tf.stop_gradient instead.\n",
      "Instead of:\n",
      "results = tf.foldr(fn, elems, back_prop=False)\n",
      "Use:\n",
      "results = tf.nest.map_structure(tf.stop_gradient, tf.foldr(fn, elems))\n"
     ]
    },
    {
     "name": "stderr",
     "output_type": "stream",
     "text": [
      "WARNING:tensorflow:From C:\\Users\\hm_as\\anaconda3\\lib\\site-packages\\tensorflow\\python\\util\\dispatch.py:1082: calling foldr_v2 (from tensorflow.python.ops.functional_ops) with back_prop=False is deprecated and will be removed in a future version.\n",
      "Instructions for updating:\n",
      "back_prop=False is deprecated. Consider using tf.stop_gradient instead.\n",
      "Instead of:\n",
      "results = tf.foldr(fn, elems, back_prop=False)\n",
      "Use:\n",
      "results = tf.nest.map_structure(tf.stop_gradient, tf.foldr(fn, elems))\n"
     ]
    },
    {
     "name": "stdout",
     "output_type": "stream",
     "text": [
      "WARNING:tensorflow:5 out of the last 5 calls to <bound method TFAgent.train of <tf_agents.agents.categorical_dqn.categorical_dqn_agent.CategoricalDqnAgent object at 0x0000029EB260EE20>> triggered tf.function retracing. Tracing is expensive and the excessive number of tracings could be due to (1) creating @tf.function repeatedly in a loop, (2) passing tensors with different shapes, (3) passing Python objects instead of tensors. For (1), please define your @tf.function outside of the loop. For (2), @tf.function has experimental_relax_shapes=True option that relaxes argument shapes that can avoid unnecessary retracing. For (3), please refer to https://www.tensorflow.org/guide/function#controlling_retracing and https://www.tensorflow.org/api_docs/python/tf/function for  more details.\n"
     ]
    },
    {
     "name": "stderr",
     "output_type": "stream",
     "text": [
      "WARNING:tensorflow:5 out of the last 5 calls to <bound method TFAgent.train of <tf_agents.agents.categorical_dqn.categorical_dqn_agent.CategoricalDqnAgent object at 0x0000029EB260EE20>> triggered tf.function retracing. Tracing is expensive and the excessive number of tracings could be due to (1) creating @tf.function repeatedly in a loop, (2) passing tensors with different shapes, (3) passing Python objects instead of tensors. For (1), please define your @tf.function outside of the loop. For (2), @tf.function has experimental_relax_shapes=True option that relaxes argument shapes that can avoid unnecessary retracing. For (3), please refer to https://www.tensorflow.org/guide/function#controlling_retracing and https://www.tensorflow.org/api_docs/python/tf/function for  more details.\n"
     ]
    },
    {
     "name": "stdout",
     "output_type": "stream",
     "text": [
      "WARNING:tensorflow:6 out of the last 6 calls to <bound method TFAgent.train of <tf_agents.agents.categorical_dqn.categorical_dqn_agent.CategoricalDqnAgent object at 0x0000029EB2631070>> triggered tf.function retracing. Tracing is expensive and the excessive number of tracings could be due to (1) creating @tf.function repeatedly in a loop, (2) passing tensors with different shapes, (3) passing Python objects instead of tensors. For (1), please define your @tf.function outside of the loop. For (2), @tf.function has experimental_relax_shapes=True option that relaxes argument shapes that can avoid unnecessary retracing. For (3), please refer to https://www.tensorflow.org/guide/function#controlling_retracing and https://www.tensorflow.org/api_docs/python/tf/function for  more details.\n"
     ]
    },
    {
     "name": "stderr",
     "output_type": "stream",
     "text": [
      "WARNING:tensorflow:6 out of the last 6 calls to <bound method TFAgent.train of <tf_agents.agents.categorical_dqn.categorical_dqn_agent.CategoricalDqnAgent object at 0x0000029EB2631070>> triggered tf.function retracing. Tracing is expensive and the excessive number of tracings could be due to (1) creating @tf.function repeatedly in a loop, (2) passing tensors with different shapes, (3) passing Python objects instead of tensors. For (1), please define your @tf.function outside of the loop. For (2), @tf.function has experimental_relax_shapes=True option that relaxes argument shapes that can avoid unnecessary retracing. For (3), please refer to https://www.tensorflow.org/guide/function#controlling_retracing and https://www.tensorflow.org/api_docs/python/tf/function for  more details.\n",
      " 10%|███████▌                                                                   | 1001/10000 [01:42<2:49:44,  1.13s/it]"
     ]
    },
    {
     "name": "stdout",
     "output_type": "stream",
     "text": [
      "step = 1000: Average Return = 21.8000431060791\n",
      "Variance :  10.360777049932826\n",
      "Lengthscale :  [2.05962428]\n",
      "MSE de la moyenne :  1.335281401950001\n"
     ]
    },
    {
     "name": "stderr",
     "output_type": "stream",
     "text": [
      " 20%|███████████████                                                            | 2001/10000 [03:26<2:33:17,  1.15s/it]"
     ]
    },
    {
     "name": "stdout",
     "output_type": "stream",
     "text": [
      "step = 2000: Average Return = 40.176883697509766\n",
      "Variance :  9.728559226716584\n",
      "Lengthscale :  [2.07506677]\n",
      "MSE de la moyenne :  0.48373607567050414\n"
     ]
    },
    {
     "name": "stderr",
     "output_type": "stream",
     "text": [
      " 30%|██████████████████████▌                                                    | 3001/10000 [05:12<2:14:29,  1.15s/it]"
     ]
    },
    {
     "name": "stdout",
     "output_type": "stream",
     "text": [
      "step = 3000: Average Return = 35.13014221191406\n",
      "Variance :  10.927696366573407\n",
      "Lengthscale :  [1.93341052]\n",
      "MSE de la moyenne :  0.44451932935344485\n"
     ]
    },
    {
     "name": "stderr",
     "output_type": "stream",
     "text": [
      " 40%|██████████████████████████████                                             | 4001/10000 [06:58<2:00:54,  1.21s/it]"
     ]
    },
    {
     "name": "stdout",
     "output_type": "stream",
     "text": [
      "step = 4000: Average Return = 31.54530906677246\n",
      "Variance :  10.044776718863544\n",
      "Lengthscale :  [2.03814116]\n",
      "MSE de la moyenne :  4.393701188410671\n"
     ]
    },
    {
     "name": "stderr",
     "output_type": "stream",
     "text": [
      " 50%|█████████████████████████████████████▌                                     | 5001/10000 [08:47<1:38:23,  1.18s/it]"
     ]
    },
    {
     "name": "stdout",
     "output_type": "stream",
     "text": [
      "step = 5000: Average Return = 16.10317611694336\n",
      "Variance :  9.651532912399707\n",
      "Lengthscale :  [2.0841846]\n",
      "MSE de la moyenne :  2.7707924199176768\n"
     ]
    },
    {
     "name": "stderr",
     "output_type": "stream",
     "text": [
      " 60%|█████████████████████████████████████████████                              | 6001/10000 [10:42<1:17:41,  1.17s/it]"
     ]
    },
    {
     "name": "stdout",
     "output_type": "stream",
     "text": [
      "step = 6000: Average Return = 36.98417282104492\n",
      "Variance :  9.975744203690786\n",
      "Lengthscale :  [2.02071068]\n",
      "MSE de la moyenne :  0.5252541875640513\n"
     ]
    },
    {
     "name": "stderr",
     "output_type": "stream",
     "text": [
      " 70%|█████████████████████████████████████████████████████▉                       | 7001/10000 [12:25<58:06,  1.16s/it]"
     ]
    },
    {
     "name": "stdout",
     "output_type": "stream",
     "text": [
      "step = 7000: Average Return = 38.68305969238281\n",
      "Variance :  10.283714901748741\n",
      "Lengthscale :  [1.99464646]\n",
      "MSE de la moyenne :  0.8782754076137571\n"
     ]
    },
    {
     "name": "stderr",
     "output_type": "stream",
     "text": [
      " 80%|█████████████████████████████████████████████████████████████▌               | 8001/10000 [14:13<38:39,  1.16s/it]"
     ]
    },
    {
     "name": "stdout",
     "output_type": "stream",
     "text": [
      "step = 8000: Average Return = 39.34773254394531\n",
      "Variance :  10.084532653586434\n",
      "Lengthscale :  [2.0117988]\n",
      "MSE de la moyenne :  0.3483434469007864\n"
     ]
    },
    {
     "name": "stderr",
     "output_type": "stream",
     "text": [
      " 90%|█████████████████████████████████████████████████████████████████████▎       | 9001/10000 [15:56<19:27,  1.17s/it]"
     ]
    },
    {
     "name": "stdout",
     "output_type": "stream",
     "text": [
      "step = 9000: Average Return = 41.09564208984375\n",
      "Variance :  9.77131728778496\n",
      "Lengthscale :  [2.08288804]\n",
      "MSE de la moyenne :  0.41053688029204055\n"
     ]
    },
    {
     "name": "stderr",
     "output_type": "stream",
     "text": [
      "100%|████████████████████████████████████████████████████████████████████████████| 10000/10000 [17:39<00:00,  9.44it/s]"
     ]
    },
    {
     "name": "stdout",
     "output_type": "stream",
     "text": [
      "step = 10000: Average Return = 43.57168197631836\n",
      "Variance :  9.777957419739145\n",
      "Lengthscale :  [2.05876437]\n",
      "MSE de la moyenne :  0.5208593993757098\n",
      "Execution Time:  1045.1437935829163\n"
     ]
    },
    {
     "name": "stderr",
     "output_type": "stream",
     "text": [
      "\n"
     ]
    }
   ],
   "source": [
    "print(compute_avg_return(eval_env, eval_policies, num_eval_episodes))\n",
    "\n",
    "steps = []\n",
    "avg = []\n",
    "err = []\n",
    "\n",
    "start = time.time()\n",
    "for i in range(nb_agents):\n",
    "    agents_tf[i].train = common.function(agents_tf[i].train)\n",
    "    agents_tf[i].train_step_counter.assign(0)\n",
    "\n",
    "for _ in tqdm(range(1000)):\n",
    "    collect_step(train_env, train_py_env, collect_policies)\n",
    "temps_execution = time.time() - start\n",
    "    \n",
    "for step in tqdm(range(1, num_iterations+1)):\n",
    "    start = time.time()\n",
    "    for _ in range(1):\n",
    "        collect_step(train_env, train_py_env, collect_policies)\n",
    "    \n",
    "    for i in range(nb_agents):\n",
    "        experience, _ = next(iterators[i])\n",
    "        agents_tf[i].train(experience=experience)\n",
    "\n",
    "    temps_execution += (time.time() - start)\n",
    "    if step%log_eval_interval==0:\n",
    "        avg_return = compute_avg_return(eval_env, eval_policies, num_eval_episodes)\n",
    "        steps.append(step)\n",
    "        avg.append(avg_return)\n",
    "        print('step = {0}: Average Return = {1}'.format(step, avg_return))\n",
    "        print(\"Variance : \", train_py_env.liste_variances[-1])\n",
    "        print(\"Lengthscale : \", train_py_env.liste_lengthscales[-1])\n",
    "        err.append(np.mean((train_py_env.moy-means)**2))\n",
    "        print(\"MSE de la moyenne : \", err[-1])\n",
    "        \n",
    "print(\"Execution Time: \", temps_execution)"
   ]
  },
  {
   "cell_type": "markdown",
   "id": "112316a7",
   "metadata": {},
   "source": [
    "## Résultats"
   ]
  },
  {
   "cell_type": "code",
   "execution_count": 39,
   "id": "7e1b3ee0",
   "metadata": {},
   "outputs": [
    {
     "data": {
      "image/png": "[encoded data removed]",
      "text/plain": [
       "<Figure size 720x360 with 1 Axes>"
      ]
     },
     "metadata": {
      "needs_background": "light"
     },
     "output_type": "display_data"
    }
   ],
   "source": [
    "nb_agents = [3, 4, 5]\n",
    "serv_res_opt = [1594.464802265167, 1970.9329478740692, 2916.3075466156006]\n",
    "serv_res_nopt = [1523.2471199035645, 1912.3376867771149, 2827.3631596565247]\n",
    "\n",
    "ax = plt.figure(figsize=(10,5)).gca()\n",
    "ax.xaxis.set_major_locator(MaxNLocator(integer=True))\n",
    "plt.plot(nb_agents, serv_res_opt, \"--or\")\n",
    "plt.plot(nb_agents, serv_res_nopt, \"--ob\")\n",
    "plt.legend([\"Avec Multithreading\", \"Sans Multithreading\"], loc =\"upper left\")\n",
    "plt.ylabel(\"Temps d'exécution\")\n",
    "plt.xlabel(\"Nombre d'agents\")\n",
    "plt.show()"
   ]
  },
  {
   "cell_type": "code",
   "execution_count": 14,
   "id": "1b996f2f",
   "metadata": {},
   "outputs": [
    {
     "data": {
      "image/png": "[encoded data removed]",
      "text/plain": [
       "<Figure size 720x360 with 1 Axes>"
      ]
     },
     "metadata": {
      "needs_background": "light"
     },
     "output_type": "display_data"
    }
   ],
   "source": [
    "nb_agents = [3, 4, 5, 6]\n",
    "pc_res_opt = [614.235107421875, 744.7073295116425, 880.3115310668945, 997.2269973754883]\n",
    "pc_res_nopt = [652.9437737464905, 803.6504008769989, 898.3685305118561, 1045.1437935829163]\n",
    "\n",
    "ax = plt.figure(figsize=(10,5)).gca()\n",
    "ax.xaxis.set_major_locator(MaxNLocator(integer=True))\n",
    "plt.plot(nb_agents, pc_res_opt, \"--or\")\n",
    "plt.plot(nb_agents, pc_res_nopt, \"--ob\")\n",
    "plt.legend([\"Avec Multithreading\", \"Sans Multithreading\"], loc =\"upper left\")\n",
    "plt.ylabel(\"Temps d'exécution\")\n",
    "plt.xlabel(\"Nombre d'agents\")\n",
    "plt.show()"
   ]
  },
  {
   "cell_type": "code",
   "execution_count": null,
   "id": "b329c5a5",
   "metadata": {},
   "outputs": [],
   "source": []
  },
  {
   "cell_type": "code",
   "execution_count": null,
   "id": "eee13024",
   "metadata": {},
   "outputs": [],
   "source": []
  },
  {
   "cell_type": "code",
   "execution_count": null,
   "id": "6e2d1e20",
   "metadata": {},
   "outputs": [],
   "source": []
  },
  {
   "cell_type": "code",
   "execution_count": null,
   "id": "beefe0cf",
   "metadata": {},
   "outputs": [],
   "source": [
    "for i in range(nb_agents):\n",
    "    policies_checkpointers[i].save(global_step=agents_tf[i].train_step_counter)"
   ]
  }
 ],
 "metadata": {
  "kernelspec": {
   "display_name": "Python 3 (ipykernel)",
   "language": "python",
   "name": "python3"
  },
  "language_info": {
   "codemirror_mode": {
    "name": "ipython",
    "version": 3
   },
   "file_extension": ".py",
   "mimetype": "text/x-python",
   "name": "python",
   "nbconvert_exporter": "python",
   "pygments_lexer": "ipython3",
   "version": "3.9.7"
  }
 },
 "nbformat": 4,
 "nbformat_minor": 5
}
