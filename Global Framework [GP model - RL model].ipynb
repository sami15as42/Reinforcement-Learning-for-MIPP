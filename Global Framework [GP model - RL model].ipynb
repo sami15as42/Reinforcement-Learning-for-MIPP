{
 "cells": [
  {
   "cell_type": "code",
   "execution_count": 1,
   "id": "723586bb",
   "metadata": {},
   "outputs": [],
   "source": [
    "import GPy\n",
    "import random\n",
    "import numpy as np\n",
    "import networkx as nx\n",
    "import matplotlib.pyplot as plt\n",
    "from IPython.display import display\n",
    "from tqdm import tqdm\n",
    "import scipy\n",
    "from scipy.interpolate import interp2d\n",
    "import seaborn as sns\n",
    "from math import nan, isnan\n",
    "\n",
    "import tensorflow as tf\n",
    "import tf_agents\n",
    "from tf_agents.environments import py_environment\n",
    "from tf_agents.environments import tf_py_environment\n",
    "from tf_agents.specs import array_spec\n",
    "from tf_agents.environments import wrappers\n",
    "from tf_agents.trajectories import time_step as ts\n",
    "from tf_agents.agents.categorical_dqn import categorical_dqn_agent\n",
    "from tf_agents.networks import categorical_q_network\n",
    "from tf_agents.trajectories import trajectory\n",
    "from tf_agents.utils import common\n",
    "\n",
    "tf.compat.v1.enable_v2_behavior()\n",
    "np.random.seed(1)\n",
    "random.seed(1)"
   ]
  },
  {
   "cell_type": "code",
   "execution_count": 62,
   "id": "6f346427",
   "metadata": {},
   "outputs": [],
   "source": [
    "def flatten(liste):\n",
    "    return [item for sublist in liste for item in sublist]\n",
    "\n",
    "def preprocessing(X_s):\n",
    "    X = []\n",
    "    for liste in X_s:\n",
    "        X += liste.copy()\n",
    "    return np.array(X)\n",
    "\n",
    "def copy_X_D(X_D):\n",
    "    X = []\n",
    "    for liste in X_D:\n",
    "        X.append(liste.copy())\n",
    "    return np.array(X)\n",
    "\n",
    "def mean_confidence_interval(data, confidence=0.95):\n",
    "    a = 1.0 * np.array(data)\n",
    "    n = len(a)\n",
    "    m, se = np.mean(a), scipy.stats.sem(a)\n",
    "    h = se * scipy.stats.t.ppf((1 + confidence) / 2., n-1)\n",
    "    return m, m-h, m+h\n",
    "\n",
    "def distance(a,b):\n",
    "    return np.sqrt((a[0]-b[0])**2 + (a[1]-b[1])**2)\n",
    "        \n",
    "def sigma_matrix(gp_model, X_v):\n",
    "    return gp_model.kern.K(X_v, X_v)\n",
    "    \n",
    "def sigma_prime_matrix(gp_model, X_v, X_s):\n",
    "    kernel = gp_model.rbf\n",
    "    variance_n = float(gp_model.Gaussian_noise.variance)\n",
    "    a = kernel.K(X_v, X_v)\n",
    "    try:\n",
    "        b = kernel.K(X_v, X_s)\n",
    "    except:\n",
    "        print(X_v)\n",
    "        print(\"#######\")\n",
    "        print(X_s)\n",
    "    c = kernel.K(X_s, X_s)\n",
    "    d = variance_n*np.eye(len(X_s))\n",
    "    e = kernel.K(X_s, X_v)\n",
    "    f = np.linalg.inv(c + d)\n",
    "    g = np.dot(b, f)\n",
    "    h = np.dot(g, e)\n",
    "    return a - h\n",
    "\n",
    "def f_D(gp_model, X_v, X_s):\n",
    "    sigma = sigma_matrix(gp_model, X_v)\n",
    "    sigma_prime = sigma_prime_matrix(gp_model, X_v, X_s)\n",
    "    return 0.5 * (np.log(np.linalg.det(sigma)) - np.log(np.linalg.det(sigma_prime)))\n",
    "\n",
    "def reward_function(gp_model, X_v, X_s_old, X_s_new):\n",
    "    if len(X_s_old)==0:\n",
    "        sigma_prime_old = sigma_matrix(gp_model, X_v)\n",
    "    else:\n",
    "        sigma_prime_old = sigma_prime_matrix(gp_model, X_v, X_s_old)\n",
    "    if len(X_s_new)==0:\n",
    "        sigma_prime_new = sigma_matrix(gp_model, X_v)\n",
    "    else:\n",
    "        sigma_prime_new = sigma_prime_matrix(gp_model, X_v, X_s_new)\n",
    "    return 0.5 * (np.log(np.linalg.det(sigma_prime_old)) - np.log(np.linalg.det(sigma_prime_new)))\n",
    "\n",
    "def credit_assignment(env, reward, dones):\n",
    "    if env.nb_agents==1:\n",
    "        return np.array([reward])\n",
    "    rewards = np.zeros(env.nb_agents)\n",
    "    if reward==0:\n",
    "        return rewards\n",
    "    X_s = preprocessing(env.X_s)\n",
    "    H = np.log(np.linalg.det(sigma_prime_matrix(env.gp_model, env.X_v, X_s)))\n",
    "    for i in range(env.nb_agents):\n",
    "        if not dones[i]:\n",
    "            X_s_i = env.X_s.copy()\n",
    "            del X_s_i[i]\n",
    "            X_s_i = preprocessing(X_s_i)\n",
    "            if len(X_s_i)==0:\n",
    "                rewards[i] = 0.5 * (np.log(np.linalg.det(sigma_matrix(env.gp_model, env.X_v))) - H)\n",
    "            else:\n",
    "                rewards[i] = 0.5 * (np.log(np.linalg.det(sigma_prime_matrix(env.gp_model, env.X_v, X_s_i))) - H)\n",
    "    somme = np.sum(rewards)\n",
    "    if somme==0:\n",
    "        return rewards\n",
    "    return rewards*(reward/(np.sum(rewards)))\n",
    "\n",
    "def construct_graph(graph_dim, graph_unity):\n",
    "    x = graph_dim[0]\n",
    "    y = graph_dim[1]\n",
    "    i, j = 0.0, 0.0\n",
    "    graph = nx.Graph()\n",
    "    for k in range(x*y):\n",
    "        graph.add_node(k, coord=[i, j])\n",
    "        i += graph_unity\n",
    "        if i==x*graph_unity:\n",
    "            i = 0.0\n",
    "            j += graph_unity\n",
    "    for k in range(x*y):\n",
    "        if (k+1)%x!=0:\n",
    "            graph.add_edge(k, k+1)\n",
    "        if k<x*y-x:\n",
    "            graph.add_edge(k, k+x)\n",
    "    return graph\n",
    "            \n",
    "def show_graph(graph):\n",
    "    nx.draw(graph, with_labels=True, font_weight='bold')\n",
    "\n",
    "def remove_nodes_from_graph(graph, liste):\n",
    "    graph.remove_nodes_from(liste)\n",
    "    return graph\n",
    "\n",
    "def pollutant_concentration(x, y, z, Q, u, h_s, g, V, T_a, T_s, a_y, b_y, a_z, b_z):\n",
    "    if x==0:\n",
    "        x = 0.7\n",
    "    sigma_y = sigma_function(x, a_y, b_y)\n",
    "    sigma_z = sigma_function(x, a_z, b_z)\n",
    "    H = h_s + delta_h(x, u, g, V, T_a, T_s)\n",
    "    return (Q/(2*np.pi*u*sigma_y*sigma_z))*np.exp(-y**2/(2*sigma_y))*(np.exp(-(z-H)**2/(2*sigma_y))+np.exp(-(z+H)**2/(2*sigma_y)))\n",
    "\n",
    "def sigma_function(x, a, b):\n",
    "    return a * (abs(x) ** b)\n",
    "\n",
    "def delta_h(x, u, g, V, T_a, T_s):\n",
    "    F = (g/np.pi) * V * ((T_s - T_a)/T_s)\n",
    "    return (1.6 * (F**(1/3)) * (x**(2/3))) / u\n",
    "\n",
    "def incertitude_initiale(sigma, graph):\n",
    "    return 0.5 * np.log(np.linalg.det(sigma)) + (graph.number_of_nodes()/2) * (1 + np.log(2*np.pi))\n",
    "\n",
    "def plot_heat_map(means, graph_dim, ax=None):\n",
    "    means = np.reshape(np.array(means), (graph_dim[0],graph_dim[1]))\n",
    "    ax = sns.heatmap(means, linewidth = 0, cmap = 'coolwarm', ax=ax)\n",
    "    ax.invert_yaxis()\n",
    "    plt.show()\n",
    "    \n",
    "def find_lengthscale(x1, x2, y, var):\n",
    "    return distance(x1, x2) * np.sqrt(-1/np.log(y/var))"
   ]
  },
  {
   "cell_type": "code",
   "execution_count": 50,
   "id": "6b3f4c03",
   "metadata": {},
   "outputs": [],
   "source": [
    "def collect_pilot_data(nb_agents, exploration_steps, graph, graph_dim, means, variance, lengthscale, measurement_scale):\n",
    "    X_D = np.array([graph.nodes[i][\"coord\"] for i in range(graph.number_of_nodes())])\n",
    "    simulation_kernel = GPy.kern.RBF(input_dim = 2, variance=variance, lengthscale=lengthscale)\n",
    "    cov = simulation_kernel.K(X_D)\n",
    "    X, Y = [], []\n",
    "    for _ in range(exploration_steps):\n",
    "        Y_D = np.random.multivariate_normal(np.array(means)*measurement_scale, cov, 1)[0]\n",
    "        Y_D = np.reshape(Y_D, (len(Y_D),1))\n",
    "        Y_D[Y_D<0] = 1e-5\n",
    "        sparse_nodes = random.sample(range(0, graph.number_of_nodes()), nb_agents)\n",
    "        X.append(X_D[sparse_nodes])\n",
    "        Y.append(Y_D[sparse_nodes])\n",
    "    return incertitude_initiale(cov, graph), np.array(X), np.array(Y)\n",
    "\n",
    "def scipy_spatial_interpolation(X, Y, kind='linear'): #linear (4 points) cubic (25 points) or quintic (36 points)\n",
    "    cartes = []\n",
    "    for i in range(len(X)):\n",
    "        x, y, z = X[i][:,0], X[i][:,1], np.reshape(Y[i], (len(Y[i]),))\n",
    "        cartes.append(interp2d(x, y, z, kind=kind))\n",
    "    return cartes\n",
    "\n",
    "def gpy_spatial_interpolation(X, Y):\n",
    "    gp_models = []\n",
    "    for i in range(len(X)):\n",
    "        kernel = GPy.kern.RBF(2)\n",
    "        gp_models.append(GPy.models.GPRegression(X[i], Y[i], kernel)) ##### SparseGPRegression or GPRegression\n",
    "        gp_models[-1].optimize(messages=False)\n",
    "    return gp_models\n",
    "\n",
    "def predicted_scipy_map(carte, graph, graph_dim, measurements_scale, plot=False):\n",
    "    predictions = []\n",
    "    X_v = np.array([graph.nodes[i][\"coord\"] for i in range(graph.number_of_nodes())])\n",
    "    for coord in X_v:\n",
    "        prediction = carte(coord[0], coord[1])[0]/measurements_scale\n",
    "        if prediction<0:\n",
    "            prediction = 1e-5\n",
    "        predictions.append(prediction)\n",
    "    if plot:\n",
    "        plot_heat_map(predictions, graph_dim)\n",
    "    return predictions\n",
    "\n",
    "def predicted_gpy_map(gp_model, graph, graph_dim, measurements_scale, plot=False):\n",
    "    X_v = np.array([graph.nodes[i][\"coord\"] for i in range(graph.number_of_nodes())])\n",
    "    predictions = np.reshape(gp_model.predict(X_v)[0], (graph.number_of_nodes(),))/measurements_scale\n",
    "    predictions[predictions<0] = 1e-5\n",
    "    if plot:\n",
    "        plot_heat_map(predictions, graph_dim)\n",
    "    return predictions\n",
    "\n",
    "def hyperparameters_estimator(model, graph, graph_dim, measurements_scale, kind=\"scipy\"): #gpy\n",
    "    X_v = np.array([graph.nodes[i][\"coord\"] for i in range(graph.number_of_nodes())])\n",
    "    predictions = []\n",
    "    x = copy_X_D(X_v)\n",
    "    for i in range(len(model)-1):\n",
    "        x = np.concatenate((x,X_v))\n",
    "    for ele in model:\n",
    "        if kind==\"gpy\":\n",
    "            predictions.append(predicted_gpy_map(ele, graph, graph_dim, measurements_scale=1))\n",
    "        else:\n",
    "            predictions.append(predicted_scipy_map(ele, graph, graph_dim, measurements_scale=1))\n",
    "    predictions = np.reshape(np.array(predictions).T, (graph.number_of_nodes(), len(model)))\n",
    "    cov = np.cov(predictions)\n",
    "    var, var_inf, var_sup =  mean_confidence_interval(np.diag(cov), confidence=0.95)\n",
    "    #################\n",
    "    lengthscales = []\n",
    "    for i in range(len(cov)):\n",
    "        for j in range(len(cov)):\n",
    "            if i!=j:\n",
    "                l = find_lengthscale(X_v[i], X_v[j], cov[i][j], var)\n",
    "                if not np.isnan(l):\n",
    "                    lengthscales.append(l)\n",
    "    lengthscale, lengthscale_inf, lengthscale_sup =  mean_confidence_interval(lengthscales, confidence=0.95)\n",
    "    return cov, (var, var_inf, var_sup), (lengthscale, min(lengthscales), max(lengthscales)), x, predictions\n",
    "\n",
    "def adjustment(graph, cov, info_var, info_lengthscale, var_granularity, lengthscale_granularity):\n",
    "    X_v = np.array([graph.nodes[i][\"coord\"] for i in range(graph.number_of_nodes())])\n",
    "    err, v, l = float(\"inf\"), 0, 0\n",
    "    for i in tqdm(np.linspace(info_var[1], info_var[2], var_granularity)):\n",
    "        for j in np.linspace(info_lengthscale[1], info_lengthscale[2], lengthscale_granularity):\n",
    "            k = GPy.kern.RBF(2, variance=i, lengthscale=j)\n",
    "            mse = np.sum((k.K(X_v)-cov)**2)\n",
    "            if mse<err:\n",
    "                v, l, err = i, j, mse\n",
    "    return v, l"
   ]
  },
  {
   "cell_type": "code",
   "execution_count": 81,
   "id": "194304f3",
   "metadata": {},
   "outputs": [
    {
     "name": "stdout",
     "output_type": "stream",
     "text": [
      "(12.48422787506176, 10.277054954847733, 14.691400795275788)\n",
      "(2.7385015333289378, 0.9801869758904403, 5.978994124009085)\n"
     ]
    },
    {
     "name": "stderr",
     "output_type": "stream",
     "text": [
      " C:\\Users\\hm_as\\anaconda3\\lib\\site-packages\\scipy\\interpolate\\_fitpack_impl.py:977: RuntimeWarning:The required storage space exceeds the available storage space.\n",
      "Probable causes: nxest or nyest too small or s is too small. (fp>s)\n",
      "\tkx,ky=1,1 nx,ny=4,4 m=4 fp=0.237740 s=0.000000\n",
      " C:\\Users\\hm_as\\anaconda3\\lib\\site-packages\\scipy\\interpolate\\_fitpack_impl.py:977: RuntimeWarning:The required storage space exceeds the available storage space.\n",
      "Probable causes: nxest or nyest too small or s is too small. (fp>s)\n",
      "\tkx,ky=1,1 nx,ny=4,4 m=4 fp=2.938744 s=0.000000\n",
      " C:\\Users\\hm_as\\anaconda3\\lib\\site-packages\\scipy\\interpolate\\_fitpack_impl.py:977: RuntimeWarning:The required storage space exceeds the available storage space.\n",
      "Probable causes: nxest or nyest too small or s is too small. (fp>s)\n",
      "\tkx,ky=1,1 nx,ny=4,4 m=4 fp=0.150518 s=0.000000\n",
      " C:\\Users\\hm_as\\anaconda3\\lib\\site-packages\\scipy\\interpolate\\_fitpack_impl.py:977: RuntimeWarning:The required storage space exceeds the available storage space.\n",
      "Probable causes: nxest or nyest too small or s is too small. (fp>s)\n",
      "\tkx,ky=1,1 nx,ny=4,4 m=4 fp=1.715022 s=0.000000\n",
      " C:\\Users\\hm_as\\anaconda3\\lib\\site-packages\\scipy\\interpolate\\_fitpack_impl.py:977: RuntimeWarning:The required storage space exceeds the available storage space.\n",
      "Probable causes: nxest or nyest too small or s is too small. (fp>s)\n",
      "\tkx,ky=1,1 nx,ny=4,4 m=4 fp=1.358253 s=0.000000\n",
      " C:\\Users\\hm_as\\AppData\\Local\\Temp/ipykernel_6636/974046156.py:135: RuntimeWarning:invalid value encountered in sqrt\n",
      " C:\\Users\\hm_as\\AppData\\Local\\Temp/ipykernel_6636/974046156.py:135: RuntimeWarning:invalid value encountered in log\n"
     ]
    },
    {
     "data": {
      "text/html": [
       "<style type=\"text/css\">\n",
       ".pd{\n",
       "    font-family: \"Courier New\", Courier, monospace !important;\n",
       "    width: 100%;\n",
       "    padding: 3px;\n",
       "}\n",
       "</style>\n",
       "\n",
       "<p class=pd>\n",
       "<b>Model</b>: GP regression<br>\n",
       "<b>Objective</b>: 241.3336796105852<br>\n",
       "<b>Number of Parameters</b>: 3<br>\n",
       "<b>Number of Optimization Parameters</b>: 3<br>\n",
       "<b>Updates</b>: True<br>\n",
       "</p>\n",
       "<style type=\"text/css\">\n",
       ".tg  {font-family:\"Courier New\", Courier, monospace !important;padding:2px 3px;word-break:normal;border-collapse:collapse;border-spacing:0;border-color:#DCDCDC;margin:0px auto;width:100%;}\n",
       ".tg td{font-family:\"Courier New\", Courier, monospace !important;font-weight:bold;color:#444;background-color:#F7FDFA;border-style:solid;border-width:1px;overflow:hidden;word-break:normal;border-color:#DCDCDC;}\n",
       ".tg th{font-family:\"Courier New\", Courier, monospace !important;font-weight:normal;color:#fff;background-color:#26ADE4;border-style:solid;border-width:1px;overflow:hidden;word-break:normal;border-color:#DCDCDC;}\n",
       ".tg .tg-left{font-family:\"Courier New\", Courier, monospace !important;font-weight:normal;text-align:left;}\n",
       ".tg .tg-center{font-family:\"Courier New\", Courier, monospace !important;font-weight:normal;text-align:center;}\n",
       ".tg .tg-right{font-family:\"Courier New\", Courier, monospace !important;font-weight:normal;text-align:right;}\n",
       "</style>\n",
       "<table class=\"tg\"><tr><th><b>  GP_regression.         </b></th><th><b>             value</b></th><th><b>constraints</b></th><th><b>priors</b></th></tr>\n",
       "<tr><td class=tg-left>  rbf.variance           </td><td class=tg-right> 8.301086609854377</td><td class=tg-center>    +ve    </td><td class=tg-center>      </td></tr>\n",
       "<tr><td class=tg-left>  rbf.lengthscale        </td><td class=tg-right>3.2826055826802283</td><td class=tg-center>    +ve    </td><td class=tg-center>      </td></tr>\n",
       "<tr><td class=tg-left>  Gaussian_noise.variance</td><td class=tg-right> 6.414159698154335</td><td class=tg-center>    +ve    </td><td class=tg-center>      </td></tr>\n",
       "</table>"
      ],
      "text/plain": [
       "<GPy.models.gp_regression.GPRegression at 0x1b811c4dc10>"
      ]
     },
     "metadata": {},
     "output_type": "display_data"
    },
    {
     "name": "stdout",
     "output_type": "stream",
     "text": [
      "[[5.15817178]]\n",
      "[[1.7922127]]\n",
      "Incertitude initiale :  -33.171157503429455\n",
      "Incertitude initiale :  -33.171157503429455\n"
     ]
    }
   ],
   "source": [
    "graph_dim = (5, 5)\n",
    "graph_unity = 1\n",
    "graph = construct_graph(graph_dim, graph_unity)\n",
    "X_v = np.array([graph.nodes[i][\"coord\"] for i in range(graph.number_of_nodes())])\n",
    "means = [6, 3, 2, 1.5, 1, 3, 2.75, 2.5, 1.75, 1.125, 2, 2.5, 2.25, 2, 1.25, 1.5, 1.75, 2, 1.75, 1.5, 1, 1.125, 1.25, 1.5, 1.25]\n",
    "nb_agents = 4\n",
    "exploration_steps = 25\n",
    "variance = 12\n",
    "lengthscale = 1.5\n",
    "measurements_scale = 1\n",
    "\n",
    "incertitude, x, y = collect_pilot_data(nb_agents, exploration_steps, graph, graph_dim, means, variance, lengthscale, measurements_scale)\n",
    "scipy_res = scipy_spatial_interpolation(x, y)\n",
    "#gpy_res = gpy_spatial_interpolation(x, y)\n",
    "\n",
    "#predicted_scipy_map(scipy_res[0], graph, graph_dim, measurements_scale, plot=False)\n",
    "#pred = predicted_gpy_map(gpy_res[0], graph, graph_dim, measurements_scale, plot=False)\n",
    "\n",
    "cov, info_var, info_lengthscale, xx, yy = hyperparameters_estimator(scipy_res, graph, graph_dim, measurements_scale, kind=\"scipy\")\n",
    "print(info_var)\n",
    "print(info_lengthscale)\n",
    "\n",
    "#var, lengthscale = adjustment(graph, cov, info_var, info_lengthscale, 100, 100)\n",
    "#print(var, lengthscale)\n",
    "#var, lengthscale = info_var[0], info_lengthscale[1]\n",
    "\n",
    "x = np.reshape(x, (nb_agents*exploration_steps,2))\n",
    "y = np.reshape(y, (nb_agents*exploration_steps,1))\n",
    "kernel = GPy.kern.RBF(input_dim = 2)\n",
    "gp_model = GPy.models.GPRegression(x, y, kernel)\n",
    "gp_model.optimize(messages = False)\n",
    "display(gp_model)\n",
    "\n",
    "#x = np.reshape(x, (nb_agents*exploration_steps,2))\n",
    "#y = np.reshape(y, (nb_agents*exploration_steps,1))\n",
    "#kernel = GPy.kern.RBF(2, variance=var, lengthscale=lengthscale)\n",
    "#gp_model = GPy.models.GPRegression(x, y, kernel, noise_var=0)\n",
    "\n",
    "print(gp_model.predict(np.array([[0, 0]]))[0])\n",
    "print(gp_model.predict(np.array([[4, 4]]))[0])\n",
    "print(\"Incertitude initiale : \", incertitude_initiale(sigma_matrix(gp_model, X_v), graph))"
   ]
  },
  {
   "cell_type": "code",
   "execution_count": 11,
   "id": "7a053f76",
   "metadata": {},
   "outputs": [],
   "source": []
  },
  {
   "cell_type": "code",
   "execution_count": null,
   "id": "eefda13a",
   "metadata": {},
   "outputs": [],
   "source": []
  },
  {
   "cell_type": "code",
   "execution_count": null,
   "id": "0d8cab6b",
   "metadata": {},
   "outputs": [],
   "source": []
  },
  {
   "cell_type": "code",
   "execution_count": null,
   "id": "d9c25a4b",
   "metadata": {},
   "outputs": [],
   "source": []
  },
  {
   "cell_type": "code",
   "execution_count": 82,
   "id": "e9b7d0e0",
   "metadata": {},
   "outputs": [],
   "source": [
    "class pfeEnv(py_environment.PyEnvironment):\n",
    "\n",
    "    def __init__(self, graph, gp_model, nb_agents, budgets, graph_unity):\n",
    "        self.nb_agents = nb_agents\n",
    "        self.graph = graph\n",
    "        self.graph_unity = graph_unity\n",
    "        self.initial_budgets = budgets/self.graph_unity\n",
    "        self.budgets = self.initial_budgets.copy()\n",
    "        self.paths = [[random.randint(0, self.graph.number_of_nodes()-1)] for i in range(self.nb_agents)]\n",
    "        self.neighbors = [sorted(list(self.graph.neighbors(self.current_node(i)))) for i in range(self.nb_agents)]\n",
    "        self.formater()\n",
    "        self.X_v = np.array([self.graph.nodes[i][\"coord\"] for i in range(self.graph.number_of_nodes())])\n",
    "        self.gp_model = gp_model\n",
    "        self.X_s = [[] for i in range(self.nb_agents)]\n",
    "        self.dones = [False for i in range(self.nb_agents)]\n",
    "        self.cpt_done = 0\n",
    "        self._action_spec = array_spec.BoundedArraySpec(shape=(), dtype=np.int32, minimum=0, maximum=3, name=\"action\")\n",
    "        self._observation_spec = array_spec.BoundedArraySpec(shape=(self.nb_agents*2,), dtype=np.float32, minimum=np.zeros((self.nb_agents*2,)), name=\"observation\")\n",
    "        self._state = flatten([self.graph.nodes[self.current_node(i)][\"coord\"] for i in range(self.nb_agents)])\n",
    "        self._episode_ended = False\n",
    "        \n",
    "    def current_node(self, id_agent):\n",
    "        return self.paths[id_agent][-1]\n",
    "\n",
    "    def action_spec(self):\n",
    "        return self._action_spec\n",
    "\n",
    "    def observation_spec(self):\n",
    "        return self._observation_spec\n",
    "    \n",
    "    def formater(self):\n",
    "        for i in range(len(self.neighbors)):\n",
    "            liste = self.neighbors[i]\n",
    "            node = self.current_node(i)\n",
    "            try:\n",
    "                if liste[0]>=node-1:\n",
    "                    liste.insert(0,-1)\n",
    "                if liste[1]!=node-1:\n",
    "                    liste.insert(1,-1)\n",
    "                if liste[2]!=node+1:\n",
    "                    liste.insert(2,-1)\n",
    "            except:\n",
    "                pass\n",
    "            for _ in range(4-len(liste)):\n",
    "                liste.append(-1)\n",
    "\n",
    "    def _reset(self):\n",
    "        self.paths = [[random.randint(0, self.graph.number_of_nodes()-1)] for i in range(self.nb_agents)]\n",
    "        self._state = flatten([self.graph.nodes[self.current_node(i)][\"coord\"] for i in range(self.nb_agents)])\n",
    "        self.neighbors = [sorted(list(self.graph.neighbors(self.current_node(i)))) for i in range(self.nb_agents)] \n",
    "        self.formater()\n",
    "        self.budgets = self.initial_budgets.copy()\n",
    "        self.X_s = [[] for i in range(self.nb_agents)]\n",
    "        self.dones = [False for i in range(self.nb_agents)]\n",
    "        self.cpt_done = 0\n",
    "        self._episode_ended = False\n",
    "        return ts.restart(np.array(self._state, dtype=np.float32))\n",
    "        \n",
    "    def _step(self, abstract_actions):\n",
    "        if self._episode_ended:\n",
    "            return self.reset()\n",
    "        actions = []\n",
    "        for i in range(self.nb_agents):\n",
    "            actions.append(self.neighbors[i][abstract_actions[i]])\n",
    "        X_s_old = preprocessing(self.X_s)\n",
    "        for i in range(self.nb_agents):\n",
    "            if not self.dones[i]:\n",
    "                if actions[i]!=-1:\n",
    "                    self.X_s[i].append([graph.nodes[actions[i]][\"coord\"][0], graph.nodes[actions[i]][\"coord\"][1]])\n",
    "                    self.budgets[i] -= 1\n",
    "                else:\n",
    "                    actions[i] = self.current_node(i)\n",
    "                    self.budgets[i] -= 0.3\n",
    "                if self.budgets[i]<1:\n",
    "                    self.dones[i] = True\n",
    "                    self.cpt_done += 1\n",
    "                self.paths[i].append(actions[i])\n",
    "                coord = self.graph.nodes[self.current_node(i)][\"coord\"]\n",
    "                self._state[2*i] = coord[0]\n",
    "                self._state[2*i+1] = coord[1]\n",
    "        self.neighbors = [sorted(list(self.graph.neighbors(self.current_node(i)))) for i in range(self.nb_agents)]\n",
    "        self.formater()\n",
    "        sigma_prime = sigma_prime_matrix(self.gp_model, self.X_v, preprocessing(self.X_s))\n",
    "        #print(sigma_prime)\n",
    "        #print(\"Incertitude partielle : \", 0.5 * np.log(np.linalg.det(sigma_prime)) + (self.graph.number_of_nodes()/2) * (1 + np.log(2*np.pi)))\n",
    "        reward = reward_function(self.gp_model, self.X_v, X_s_old, preprocessing(self.X_s))\n",
    "        #print(\"Reward : \", reward)\n",
    "        if self.cpt_done==self.nb_agents:\n",
    "            self._episode_ended = True\n",
    "            return ts.termination(np.array(self._state, dtype=np.float32), reward)\n",
    "        return ts.transition(np.array(self._state, dtype=np.float32), reward=reward, discount=0.97)"
   ]
  },
  {
   "cell_type": "code",
   "execution_count": 83,
   "id": "9e9b3a3a",
   "metadata": {},
   "outputs": [],
   "source": [
    "num_iterations = 100000\n",
    "fc_layer_params = (128,64,)\n",
    "replay_buffer_capacity = 300000\n",
    "batch_size = 128\n",
    "learning_rate = 1e-5\n",
    "\n",
    "num_atoms = 51\n",
    "min_q_value = -20\n",
    "max_q_value = 20\n",
    "n_step_update = 3\n",
    "gamma = 0.99\n",
    "\n",
    "num_eval_episodes = 10\n",
    "log_eval_interval = 1000\n",
    "\n",
    "max_episode_length = 25\n",
    "budgets = 25 * np.ones(nb_agents)"
   ]
  },
  {
   "cell_type": "code",
   "execution_count": 84,
   "id": "99c15320",
   "metadata": {},
   "outputs": [],
   "source": [
    "train_py_env = wrappers.TimeLimit(pfeEnv(graph, gp_model, nb_agents, budgets, graph_unity), duration=max_episode_length)\n",
    "eval_py_env = wrappers.TimeLimit(pfeEnv(graph, gp_model, nb_agents, budgets, graph_unity), duration=max_episode_length)\n",
    "\n",
    "train_env = tf_py_environment.TFPyEnvironment(train_py_env)\n",
    "eval_env = tf_py_environment.TFPyEnvironment(eval_py_env)\n",
    "\n",
    "agents_tf = []\n",
    "eval_policies = []\n",
    "collect_policies = []\n",
    "policies_checkpointers = []\n",
    "\n",
    "for i in range(nb_agents):\n",
    "    categorical_q_net = categorical_q_network.CategoricalQNetwork(\n",
    "        train_env.observation_spec(),\n",
    "        train_env.action_spec(),\n",
    "        num_atoms=num_atoms,\n",
    "        fc_layer_params=fc_layer_params)\n",
    "\n",
    "    optimizer = tf.compat.v1.train.AdamOptimizer(learning_rate=learning_rate)\n",
    "\n",
    "    train_step_counter = tf.compat.v2.Variable(0)\n",
    "\n",
    "    agents_tf.append(categorical_dqn_agent.CategoricalDqnAgent(\n",
    "        train_env.time_step_spec(),\n",
    "        train_env.action_spec(),\n",
    "        categorical_q_network=categorical_q_net,\n",
    "        optimizer=optimizer,\n",
    "        min_q_value=min_q_value,\n",
    "        max_q_value=max_q_value,\n",
    "        n_step_update=n_step_update,\n",
    "        td_errors_loss_fn=common.element_wise_squared_loss,\n",
    "        gamma=gamma,\n",
    "        train_step_counter=train_step_counter))\n",
    "\n",
    "    agents_tf[-1].initialize()\n",
    "\n",
    "    eval_policies.append(agents_tf[-1].policy)\n",
    "    collect_policies.append(agents_tf[-1].collect_policy)\n",
    "    \n",
    "    policies_checkpointers.append(common.Checkpointer(ckpt_dir='Politique_'+str(i), policy=eval_policies[-1]))"
   ]
  },
  {
   "cell_type": "code",
   "execution_count": 85,
   "id": "6eeaf3c1",
   "metadata": {},
   "outputs": [],
   "source": [
    "def compute_avg_return(environment, policies, num_episodes=10):\n",
    "    total_return = 0.0\n",
    "    for _ in range(num_episodes):\n",
    "        time_step = environment.reset()\n",
    "        episode_return = 0.0\n",
    "        while not time_step.is_last():\n",
    "            actions = []\n",
    "            for i in range(nb_agents):\n",
    "                actions.append(policies[i].action(time_step).action.numpy()[0])\n",
    "            actions = tf.convert_to_tensor([actions])\n",
    "            time_step = environment.step(actions)\n",
    "            episode_return += time_step.reward\n",
    "        total_return += episode_return\n",
    "    avg_return = total_return / num_episodes\n",
    "    return avg_return.numpy()[0]\n",
    "\n",
    "def collect_step(environment, environment_py, policies):\n",
    "    time_step = environment.current_time_step()\n",
    "    actions = []\n",
    "    actions_step = []\n",
    "    dones = environment_py.dones.copy()\n",
    "    for i in range(nb_agents):\n",
    "        actions_step.append(policies[i].action(time_step))\n",
    "        actions.append(actions_step[-1].action.numpy()[0])\n",
    "    actions = tf.convert_to_tensor([actions])\n",
    "    next_time_step = environment.step(actions)\n",
    "    rewards = credit_assignment(environment_py, next_time_step.reward.numpy()[0], dones)\n",
    "    for i in range(nb_agents):\n",
    "        if not dones[i]:\n",
    "            nts = next_time_step._replace(reward=tf.convert_to_tensor([rewards[i]], dtype=np.float32))\n",
    "            traj = trajectory.from_transition(time_step, actions_step[i], nts)\n",
    "            replay_buffers[i].add_batch(traj)"
   ]
  },
  {
   "cell_type": "code",
   "execution_count": 86,
   "id": "e76e270f",
   "metadata": {},
   "outputs": [],
   "source": [
    "replay_buffers = []\n",
    "for i in range(nb_agents):\n",
    "    replay_buffers.append(tf_agents.replay_buffers.TFUniformReplayBuffer(\n",
    "        data_spec = agents_tf[i].collect_data_spec,\n",
    "        batch_size = train_env.batch_size,\n",
    "        max_length = replay_buffer_capacity))\n",
    "\n",
    "iterators = []\n",
    "for i in range(nb_agents):\n",
    "    dataset = replay_buffers[i].as_dataset(\n",
    "        num_parallel_calls=3,\n",
    "        sample_batch_size=batch_size,\n",
    "        num_steps=2).prefetch(3)\n",
    "    iterators.append(iter(dataset))"
   ]
  },
  {
   "cell_type": "code",
   "execution_count": 87,
   "id": "4babb8f8",
   "metadata": {},
   "outputs": [
    {
     "name": "stdout",
     "output_type": "stream",
     "text": [
      "3.4834323\n"
     ]
    },
    {
     "name": "stderr",
     "output_type": "stream",
     "text": [
      "100%|██████████████████████████████████████████████████████████████████████████████| 5000/5000 [02:52<00:00, 28.90it/s]\n",
      "  1%|▋                                                                        | 1004/100000 [00:59<13:29:14,  2.04it/s]"
     ]
    },
    {
     "name": "stdout",
     "output_type": "stream",
     "text": [
      "step = 1000: Average Return = 3.7164032459259033\n"
     ]
    },
    {
     "name": "stderr",
     "output_type": "stream",
     "text": [
      "  2%|█▍                                                                       | 2003/100000 [01:56<12:51:44,  2.12it/s]"
     ]
    },
    {
     "name": "stdout",
     "output_type": "stream",
     "text": [
      "step = 2000: Average Return = 4.242666721343994\n"
     ]
    },
    {
     "name": "stderr",
     "output_type": "stream",
     "text": [
      "  3%|██▏                                                                      | 3002/100000 [02:52<15:11:08,  1.77it/s]"
     ]
    },
    {
     "name": "stdout",
     "output_type": "stream",
     "text": [
      "step = 3000: Average Return = 5.521677494049072\n"
     ]
    },
    {
     "name": "stderr",
     "output_type": "stream",
     "text": [
      "  4%|██▉                                                                      | 4003/100000 [03:49<12:32:56,  2.12it/s]"
     ]
    },
    {
     "name": "stdout",
     "output_type": "stream",
     "text": [
      "step = 4000: Average Return = 5.746472358703613\n"
     ]
    },
    {
     "name": "stderr",
     "output_type": "stream",
     "text": [
      "  5%|███▋                                                                     | 5003/100000 [04:47<14:31:58,  1.82it/s]"
     ]
    },
    {
     "name": "stdout",
     "output_type": "stream",
     "text": [
      "step = 5000: Average Return = 5.560220241546631\n"
     ]
    },
    {
     "name": "stderr",
     "output_type": "stream",
     "text": [
      "  6%|████▍                                                                    | 6004/100000 [05:41<10:29:31,  2.49it/s]"
     ]
    },
    {
     "name": "stdout",
     "output_type": "stream",
     "text": [
      "step = 6000: Average Return = 5.404374122619629\n"
     ]
    },
    {
     "name": "stderr",
     "output_type": "stream",
     "text": [
      "  7%|█████                                                                    | 7002/100000 [06:35<12:03:09,  2.14it/s]"
     ]
    },
    {
     "name": "stdout",
     "output_type": "stream",
     "text": [
      "step = 7000: Average Return = 5.3803606033325195\n"
     ]
    },
    {
     "name": "stderr",
     "output_type": "stream",
     "text": [
      "  8%|█████▊                                                                   | 8003/100000 [07:32<12:57:01,  1.97it/s]"
     ]
    },
    {
     "name": "stdout",
     "output_type": "stream",
     "text": [
      "step = 8000: Average Return = 5.4950761795043945\n"
     ]
    },
    {
     "name": "stderr",
     "output_type": "stream",
     "text": [
      "  9%|██████▌                                                                  | 9003/100000 [08:29<12:11:04,  2.07it/s]"
     ]
    },
    {
     "name": "stdout",
     "output_type": "stream",
     "text": [
      "step = 9000: Average Return = 5.601781368255615\n"
     ]
    },
    {
     "name": "stderr",
     "output_type": "stream",
     "text": [
      " 10%|███████▏                                                                | 10004/100000 [09:26<12:58:15,  1.93it/s]"
     ]
    },
    {
     "name": "stdout",
     "output_type": "stream",
     "text": [
      "step = 10000: Average Return = 5.792807579040527\n"
     ]
    },
    {
     "name": "stderr",
     "output_type": "stream",
     "text": [
      " 11%|███████▉                                                                | 11002/100000 [10:22<14:46:23,  1.67it/s]"
     ]
    },
    {
     "name": "stdout",
     "output_type": "stream",
     "text": [
      "step = 11000: Average Return = 5.590549468994141\n"
     ]
    },
    {
     "name": "stderr",
     "output_type": "stream",
     "text": [
      " 12%|████████▋                                                               | 12003/100000 [11:18<14:56:17,  1.64it/s]"
     ]
    },
    {
     "name": "stdout",
     "output_type": "stream",
     "text": [
      "step = 12000: Average Return = 5.335968971252441\n"
     ]
    },
    {
     "name": "stderr",
     "output_type": "stream",
     "text": [
      " 13%|█████████▎                                                              | 13004/100000 [12:14<11:38:18,  2.08it/s]"
     ]
    },
    {
     "name": "stdout",
     "output_type": "stream",
     "text": [
      "step = 13000: Average Return = 4.772758483886719\n"
     ]
    },
    {
     "name": "stderr",
     "output_type": "stream",
     "text": [
      " 14%|██████████                                                              | 14003/100000 [13:09<13:09:16,  1.82it/s]"
     ]
    },
    {
     "name": "stdout",
     "output_type": "stream",
     "text": [
      "step = 14000: Average Return = 5.806246280670166\n"
     ]
    },
    {
     "name": "stderr",
     "output_type": "stream",
     "text": [
      " 15%|██████████▊                                                             | 15003/100000 [14:03<10:34:45,  2.23it/s]"
     ]
    },
    {
     "name": "stdout",
     "output_type": "stream",
     "text": [
      "step = 15000: Average Return = 5.61744499206543\n"
     ]
    },
    {
     "name": "stderr",
     "output_type": "stream",
     "text": [
      " 16%|███████████▌                                                            | 16003/100000 [14:58<11:21:44,  2.05it/s]"
     ]
    },
    {
     "name": "stdout",
     "output_type": "stream",
     "text": [
      "step = 16000: Average Return = 5.692850589752197\n"
     ]
    },
    {
     "name": "stderr",
     "output_type": "stream",
     "text": [
      " 17%|████████████▍                                                            | 17004/100000 [15:55<9:25:29,  2.45it/s]"
     ]
    },
    {
     "name": "stdout",
     "output_type": "stream",
     "text": [
      "step = 17000: Average Return = 5.187777519226074\n"
     ]
    },
    {
     "name": "stderr",
     "output_type": "stream",
     "text": [
      " 18%|████████████▉                                                           | 18003/100000 [16:52<10:55:20,  2.09it/s]"
     ]
    },
    {
     "name": "stdout",
     "output_type": "stream",
     "text": [
      "step = 18000: Average Return = 5.585206031799316\n"
     ]
    },
    {
     "name": "stderr",
     "output_type": "stream",
     "text": [
      " 19%|█████████████▋                                                          | 19003/100000 [17:48<12:25:46,  1.81it/s]"
     ]
    },
    {
     "name": "stdout",
     "output_type": "stream",
     "text": [
      "step = 19000: Average Return = 5.604649066925049\n"
     ]
    },
    {
     "name": "stderr",
     "output_type": "stream",
     "text": [
      " 20%|██████████████▌                                                          | 20002/100000 [18:44<9:46:53,  2.27it/s]"
     ]
    },
    {
     "name": "stdout",
     "output_type": "stream",
     "text": [
      "step = 20000: Average Return = 5.75368070602417\n"
     ]
    },
    {
     "name": "stderr",
     "output_type": "stream",
     "text": [
      " 21%|███████████████                                                         | 21004/100000 [19:40<11:10:35,  1.96it/s]"
     ]
    },
    {
     "name": "stdout",
     "output_type": "stream",
     "text": [
      "step = 21000: Average Return = 5.4692583084106445\n"
     ]
    },
    {
     "name": "stderr",
     "output_type": "stream",
     "text": [
      " 22%|████████████████                                                         | 22003/100000 [20:37<9:42:20,  2.23it/s]"
     ]
    },
    {
     "name": "stdout",
     "output_type": "stream",
     "text": [
      "step = 22000: Average Return = 5.246077060699463\n"
     ]
    },
    {
     "name": "stderr",
     "output_type": "stream",
     "text": [
      " 23%|████████████████▌                                                       | 23002/100000 [21:33<11:06:41,  1.92it/s]"
     ]
    },
    {
     "name": "stdout",
     "output_type": "stream",
     "text": [
      "step = 23000: Average Return = 5.28161096572876\n"
     ]
    },
    {
     "name": "stderr",
     "output_type": "stream",
     "text": [
      " 24%|█████████████████▎                                                      | 24003/100000 [22:31<10:55:06,  1.93it/s]"
     ]
    },
    {
     "name": "stdout",
     "output_type": "stream",
     "text": [
      "step = 24000: Average Return = 5.153462886810303\n"
     ]
    },
    {
     "name": "stderr",
     "output_type": "stream",
     "text": [
      " 25%|██████████████████                                                      | 25003/100000 [23:28<12:43:00,  1.64it/s]"
     ]
    },
    {
     "name": "stdout",
     "output_type": "stream",
     "text": [
      "step = 25000: Average Return = 5.263410568237305\n"
     ]
    },
    {
     "name": "stderr",
     "output_type": "stream",
     "text": [
      " 26%|██████████████████▉                                                      | 26002/100000 [24:26<9:04:24,  2.27it/s]"
     ]
    },
    {
     "name": "stdout",
     "output_type": "stream",
     "text": [
      "step = 26000: Average Return = 5.968322277069092\n"
     ]
    },
    {
     "name": "stderr",
     "output_type": "stream",
     "text": [
      " 27%|███████████████████▋                                                     | 27004/100000 [25:20<8:19:16,  2.44it/s]"
     ]
    },
    {
     "name": "stdout",
     "output_type": "stream",
     "text": [
      "step = 27000: Average Return = 5.287009239196777\n"
     ]
    },
    {
     "name": "stderr",
     "output_type": "stream",
     "text": [
      " 28%|████████████████████▏                                                   | 28003/100000 [26:16<10:30:13,  1.90it/s]"
     ]
    },
    {
     "name": "stdout",
     "output_type": "stream",
     "text": [
      "step = 28000: Average Return = 5.627528667449951\n"
     ]
    },
    {
     "name": "stderr",
     "output_type": "stream",
     "text": [
      " 29%|█████████████████████▏                                                   | 29004/100000 [27:11<8:39:27,  2.28it/s]"
     ]
    },
    {
     "name": "stdout",
     "output_type": "stream",
     "text": [
      "step = 29000: Average Return = 5.70527982711792\n"
     ]
    },
    {
     "name": "stderr",
     "output_type": "stream",
     "text": [
      " 29%|█████████████████████▌                                                   | 29478/100000 [27:35<1:06:01, 17.80it/s]\n"
     ]
    },
    {
     "ename": "KeyboardInterrupt",
     "evalue": "",
     "output_type": "error",
     "traceback": [
      "\u001b[1;31m---------------------------------------------------------------------------\u001b[0m",
      "\u001b[1;31mKeyboardInterrupt\u001b[0m                         Traceback (most recent call last)",
      "\u001b[1;32m~\\AppData\\Local\\Temp/ipykernel_6636/601101729.py\u001b[0m in \u001b[0;36m<module>\u001b[1;34m\u001b[0m\n\u001b[0;32m     13\u001b[0m \u001b[1;32mfor\u001b[0m \u001b[0mstep\u001b[0m \u001b[1;32min\u001b[0m \u001b[0mtqdm\u001b[0m\u001b[1;33m(\u001b[0m\u001b[0mrange\u001b[0m\u001b[1;33m(\u001b[0m\u001b[1;36m1\u001b[0m\u001b[1;33m,\u001b[0m \u001b[0mnum_iterations\u001b[0m\u001b[1;33m+\u001b[0m\u001b[1;36m1\u001b[0m\u001b[1;33m)\u001b[0m\u001b[1;33m)\u001b[0m\u001b[1;33m:\u001b[0m\u001b[1;33m\u001b[0m\u001b[1;33m\u001b[0m\u001b[0m\n\u001b[0;32m     14\u001b[0m     \u001b[1;32mfor\u001b[0m \u001b[0m_\u001b[0m \u001b[1;32min\u001b[0m \u001b[0mrange\u001b[0m\u001b[1;33m(\u001b[0m\u001b[1;36m1\u001b[0m\u001b[1;33m)\u001b[0m\u001b[1;33m:\u001b[0m\u001b[1;33m\u001b[0m\u001b[1;33m\u001b[0m\u001b[0m\n\u001b[1;32m---> 15\u001b[1;33m         \u001b[0mcollect_step\u001b[0m\u001b[1;33m(\u001b[0m\u001b[0mtrain_env\u001b[0m\u001b[1;33m,\u001b[0m \u001b[0mtrain_py_env\u001b[0m\u001b[1;33m,\u001b[0m \u001b[0mcollect_policies\u001b[0m\u001b[1;33m)\u001b[0m\u001b[1;33m\u001b[0m\u001b[1;33m\u001b[0m\u001b[0m\n\u001b[0m\u001b[0;32m     16\u001b[0m \u001b[1;33m\u001b[0m\u001b[0m\n\u001b[0;32m     17\u001b[0m     \u001b[1;32mfor\u001b[0m \u001b[0mi\u001b[0m \u001b[1;32min\u001b[0m \u001b[0mrange\u001b[0m\u001b[1;33m(\u001b[0m\u001b[0mnb_agents\u001b[0m\u001b[1;33m)\u001b[0m\u001b[1;33m:\u001b[0m\u001b[1;33m\u001b[0m\u001b[1;33m\u001b[0m\u001b[0m\n",
      "\u001b[1;32m~\\AppData\\Local\\Temp/ipykernel_6636/809112212.py\u001b[0m in \u001b[0;36mcollect_step\u001b[1;34m(environment, environment_py, policies)\u001b[0m\n\u001b[0;32m     30\u001b[0m             \u001b[0mnts\u001b[0m \u001b[1;33m=\u001b[0m \u001b[0mnext_time_step\u001b[0m\u001b[1;33m.\u001b[0m\u001b[0m_replace\u001b[0m\u001b[1;33m(\u001b[0m\u001b[0mreward\u001b[0m\u001b[1;33m=\u001b[0m\u001b[0mtf\u001b[0m\u001b[1;33m.\u001b[0m\u001b[0mconvert_to_tensor\u001b[0m\u001b[1;33m(\u001b[0m\u001b[1;33m[\u001b[0m\u001b[0mrewards\u001b[0m\u001b[1;33m[\u001b[0m\u001b[0mi\u001b[0m\u001b[1;33m]\u001b[0m\u001b[1;33m]\u001b[0m\u001b[1;33m,\u001b[0m \u001b[0mdtype\u001b[0m\u001b[1;33m=\u001b[0m\u001b[0mnp\u001b[0m\u001b[1;33m.\u001b[0m\u001b[0mfloat32\u001b[0m\u001b[1;33m)\u001b[0m\u001b[1;33m)\u001b[0m\u001b[1;33m\u001b[0m\u001b[1;33m\u001b[0m\u001b[0m\n\u001b[0;32m     31\u001b[0m             \u001b[0mtraj\u001b[0m \u001b[1;33m=\u001b[0m \u001b[0mtrajectory\u001b[0m\u001b[1;33m.\u001b[0m\u001b[0mfrom_transition\u001b[0m\u001b[1;33m(\u001b[0m\u001b[0mtime_step\u001b[0m\u001b[1;33m,\u001b[0m \u001b[0mactions_step\u001b[0m\u001b[1;33m[\u001b[0m\u001b[0mi\u001b[0m\u001b[1;33m]\u001b[0m\u001b[1;33m,\u001b[0m \u001b[0mnts\u001b[0m\u001b[1;33m)\u001b[0m\u001b[1;33m\u001b[0m\u001b[1;33m\u001b[0m\u001b[0m\n\u001b[1;32m---> 32\u001b[1;33m             \u001b[0mreplay_buffers\u001b[0m\u001b[1;33m[\u001b[0m\u001b[0mi\u001b[0m\u001b[1;33m]\u001b[0m\u001b[1;33m.\u001b[0m\u001b[0madd_batch\u001b[0m\u001b[1;33m(\u001b[0m\u001b[0mtraj\u001b[0m\u001b[1;33m)\u001b[0m\u001b[1;33m\u001b[0m\u001b[1;33m\u001b[0m\u001b[0m\n\u001b[0m",
      "\u001b[1;32m~\\anaconda3\\lib\\site-packages\\tf_agents\\replay_buffers\\replay_buffer.py\u001b[0m in \u001b[0;36madd_batch\u001b[1;34m(self, items)\u001b[0m\n\u001b[0;32m     81\u001b[0m       \u001b[0mAdds\u001b[0m\u001b[0;31m \u001b[0m\u001b[0;31m`\u001b[0m\u001b[0mitems\u001b[0m\u001b[0;31m`\u001b[0m \u001b[0mto\u001b[0m \u001b[0mthe\u001b[0m \u001b[0mreplay\u001b[0m \u001b[0mbuffer\u001b[0m\u001b[1;33m.\u001b[0m\u001b[1;33m\u001b[0m\u001b[1;33m\u001b[0m\u001b[0m\n\u001b[0;32m     82\u001b[0m     \"\"\"\n\u001b[1;32m---> 83\u001b[1;33m     \u001b[1;32mreturn\u001b[0m \u001b[0mself\u001b[0m\u001b[1;33m.\u001b[0m\u001b[0m_add_batch\u001b[0m\u001b[1;33m(\u001b[0m\u001b[0mitems\u001b[0m\u001b[1;33m)\u001b[0m\u001b[1;33m\u001b[0m\u001b[1;33m\u001b[0m\u001b[0m\n\u001b[0m\u001b[0;32m     84\u001b[0m \u001b[1;33m\u001b[0m\u001b[0m\n\u001b[0;32m     85\u001b[0m   @deprecation.deprecated(\n",
      "\u001b[1;32m~\\anaconda3\\lib\\site-packages\\tf_agents\\replay_buffers\\tf_uniform_replay_buffer.py\u001b[0m in \u001b[0;36m_add_batch\u001b[1;34m(self, items)\u001b[0m\n\u001b[0;32m    200\u001b[0m \u001b[1;33m\u001b[0m\u001b[0m\n\u001b[0;32m    201\u001b[0m     \u001b[1;32mwith\u001b[0m \u001b[0mtf\u001b[0m\u001b[1;33m.\u001b[0m\u001b[0mdevice\u001b[0m\u001b[1;33m(\u001b[0m\u001b[0mself\u001b[0m\u001b[1;33m.\u001b[0m\u001b[0m_device\u001b[0m\u001b[1;33m)\u001b[0m\u001b[1;33m,\u001b[0m \u001b[0mtf\u001b[0m\u001b[1;33m.\u001b[0m\u001b[0mname_scope\u001b[0m\u001b[1;33m(\u001b[0m\u001b[0mself\u001b[0m\u001b[1;33m.\u001b[0m\u001b[0m_scope\u001b[0m\u001b[1;33m)\u001b[0m\u001b[1;33m:\u001b[0m\u001b[1;33m\u001b[0m\u001b[1;33m\u001b[0m\u001b[0m\n\u001b[1;32m--> 202\u001b[1;33m       \u001b[0mid_\u001b[0m \u001b[1;33m=\u001b[0m \u001b[0mself\u001b[0m\u001b[1;33m.\u001b[0m\u001b[0m_increment_last_id\u001b[0m\u001b[1;33m(\u001b[0m\u001b[1;33m)\u001b[0m\u001b[1;33m\u001b[0m\u001b[1;33m\u001b[0m\u001b[0m\n\u001b[0m\u001b[0;32m    203\u001b[0m       \u001b[0mwrite_rows\u001b[0m \u001b[1;33m=\u001b[0m \u001b[0mself\u001b[0m\u001b[1;33m.\u001b[0m\u001b[0m_get_rows_for_id\u001b[0m\u001b[1;33m(\u001b[0m\u001b[0mid_\u001b[0m\u001b[1;33m)\u001b[0m\u001b[1;33m\u001b[0m\u001b[1;33m\u001b[0m\u001b[0m\n\u001b[0;32m    204\u001b[0m       \u001b[0mwrite_id_op\u001b[0m \u001b[1;33m=\u001b[0m \u001b[0mself\u001b[0m\u001b[1;33m.\u001b[0m\u001b[0m_id_table\u001b[0m\u001b[1;33m.\u001b[0m\u001b[0mwrite\u001b[0m\u001b[1;33m(\u001b[0m\u001b[0mwrite_rows\u001b[0m\u001b[1;33m,\u001b[0m \u001b[0mid_\u001b[0m\u001b[1;33m)\u001b[0m\u001b[1;33m\u001b[0m\u001b[1;33m\u001b[0m\u001b[0m\n",
      "\u001b[1;32m~\\anaconda3\\lib\\site-packages\\tf_agents\\replay_buffers\\tf_uniform_replay_buffer.py\u001b[0m in \u001b[0;36m_increment_last_id\u001b[1;34m(self, increment)\u001b[0m\n\u001b[0;32m    539\u001b[0m     \u001b[1;32mdef\u001b[0m \u001b[0m_assign_add\u001b[0m\u001b[1;33m(\u001b[0m\u001b[1;33m)\u001b[0m\u001b[1;33m:\u001b[0m\u001b[1;33m\u001b[0m\u001b[1;33m\u001b[0m\u001b[0m\n\u001b[0;32m    540\u001b[0m       \u001b[1;32mreturn\u001b[0m \u001b[0mself\u001b[0m\u001b[1;33m.\u001b[0m\u001b[0m_last_id\u001b[0m\u001b[1;33m.\u001b[0m\u001b[0massign_add\u001b[0m\u001b[1;33m(\u001b[0m\u001b[0mincrement\u001b[0m\u001b[1;33m)\u001b[0m\u001b[1;33m.\u001b[0m\u001b[0mvalue\u001b[0m\u001b[1;33m(\u001b[0m\u001b[1;33m)\u001b[0m\u001b[1;33m\u001b[0m\u001b[1;33m\u001b[0m\u001b[0m\n\u001b[1;32m--> 541\u001b[1;33m     \u001b[1;32mreturn\u001b[0m \u001b[0mself\u001b[0m\u001b[1;33m.\u001b[0m\u001b[0m_last_id_cs\u001b[0m\u001b[1;33m.\u001b[0m\u001b[0mexecute\u001b[0m\u001b[1;33m(\u001b[0m\u001b[0m_assign_add\u001b[0m\u001b[1;33m)\u001b[0m\u001b[1;33m\u001b[0m\u001b[1;33m\u001b[0m\u001b[0m\n\u001b[0m\u001b[0;32m    542\u001b[0m \u001b[1;33m\u001b[0m\u001b[0m\n\u001b[0;32m    543\u001b[0m   \u001b[1;32mdef\u001b[0m \u001b[0m_get_last_id\u001b[0m\u001b[1;33m(\u001b[0m\u001b[0mself\u001b[0m\u001b[1;33m)\u001b[0m\u001b[1;33m:\u001b[0m\u001b[1;33m\u001b[0m\u001b[1;33m\u001b[0m\u001b[0m\n",
      "\u001b[1;32m~\\anaconda3\\lib\\site-packages\\tensorflow\\python\\ops\\critical_section_ops.py\u001b[0m in \u001b[0;36mexecute\u001b[1;34m(self, fn, exclusive_resource_access, name)\u001b[0m\n\u001b[0;32m    263\u001b[0m       \u001b[1;31m# kwargs have been executed.  This avoids certain types of deadlocks.\u001b[0m\u001b[1;33m\u001b[0m\u001b[1;33m\u001b[0m\u001b[0m\n\u001b[0;32m    264\u001b[0m       \u001b[1;32mwith\u001b[0m \u001b[0m_push_critical_section_stack\u001b[0m\u001b[1;33m(\u001b[0m\u001b[0mself\u001b[0m\u001b[1;33m.\u001b[0m\u001b[0m_signature\u001b[0m\u001b[1;33m)\u001b[0m\u001b[1;33m:\u001b[0m\u001b[1;33m\u001b[0m\u001b[1;33m\u001b[0m\u001b[0m\n\u001b[1;32m--> 265\u001b[1;33m         \u001b[0mlock\u001b[0m \u001b[1;33m=\u001b[0m \u001b[0mgen_resource_variable_ops\u001b[0m\u001b[1;33m.\u001b[0m\u001b[0mmutex_lock\u001b[0m\u001b[1;33m(\u001b[0m\u001b[0mself\u001b[0m\u001b[1;33m.\u001b[0m\u001b[0m_handle\u001b[0m\u001b[1;33m)\u001b[0m\u001b[1;33m\u001b[0m\u001b[1;33m\u001b[0m\u001b[0m\n\u001b[0m\u001b[0;32m    266\u001b[0m \u001b[1;33m\u001b[0m\u001b[0m\n\u001b[0;32m    267\u001b[0m         \u001b[1;32mif\u001b[0m \u001b[1;32mnot\u001b[0m \u001b[0mcontext\u001b[0m\u001b[1;33m.\u001b[0m\u001b[0mexecuting_eagerly\u001b[0m\u001b[1;33m(\u001b[0m\u001b[1;33m)\u001b[0m\u001b[1;33m:\u001b[0m\u001b[1;33m\u001b[0m\u001b[1;33m\u001b[0m\u001b[0m\n",
      "\u001b[1;32m~\\anaconda3\\lib\\site-packages\\tensorflow\\python\\ops\\gen_resource_variable_ops.py\u001b[0m in \u001b[0;36mmutex_lock\u001b[1;34m(mutex, name)\u001b[0m\n\u001b[0;32m    341\u001b[0m   \u001b[1;32mif\u001b[0m \u001b[0mtld\u001b[0m\u001b[1;33m.\u001b[0m\u001b[0mis_eager\u001b[0m\u001b[1;33m:\u001b[0m\u001b[1;33m\u001b[0m\u001b[1;33m\u001b[0m\u001b[0m\n\u001b[0;32m    342\u001b[0m     \u001b[1;32mtry\u001b[0m\u001b[1;33m:\u001b[0m\u001b[1;33m\u001b[0m\u001b[1;33m\u001b[0m\u001b[0m\n\u001b[1;32m--> 343\u001b[1;33m       _result = pywrap_tfe.TFE_Py_FastPathExecute(\n\u001b[0m\u001b[0;32m    344\u001b[0m         _ctx, \"MutexLock\", name, mutex)\n\u001b[0;32m    345\u001b[0m       \u001b[1;32mreturn\u001b[0m \u001b[0m_result\u001b[0m\u001b[1;33m\u001b[0m\u001b[1;33m\u001b[0m\u001b[0m\n",
      "\u001b[1;31mKeyboardInterrupt\u001b[0m: "
     ]
    }
   ],
   "source": [
    "print(compute_avg_return(eval_env, eval_policies, num_eval_episodes))\n",
    "\n",
    "steps = []\n",
    "avg = []\n",
    "\n",
    "for i in range(nb_agents):\n",
    "    agents_tf[i].train = common.function(agents_tf[i].train)\n",
    "    agents_tf[i].train_step_counter.assign(0)\n",
    "\n",
    "for _ in tqdm(range(5000)):\n",
    "    collect_step(train_env, train_py_env, collect_policies)\n",
    "\n",
    "for step in tqdm(range(1, num_iterations+1)):\n",
    "    for _ in range(1):\n",
    "        collect_step(train_env, train_py_env, collect_policies)\n",
    "    \n",
    "    for i in range(nb_agents):\n",
    "        experience, _ = next(iterators[i])\n",
    "        agents_tf[i].train(experience=experience)\n",
    "        \n",
    "    if step%log_eval_interval==0:\n",
    "        avg_return = compute_avg_return(eval_env, eval_policies, num_eval_episodes)\n",
    "        #if avg_return >= 55:\n",
    "            #for k in range(nb_agents):\n",
    "                #policies_checkpointers[k].save(global_step=agents_tf[k].train_step_counter)\n",
    "        steps.append(step)\n",
    "        avg.append(avg_return)\n",
    "        print('step = {0}: Average Return = {1}'.format(step, avg_return))"
   ]
  },
  {
   "cell_type": "code",
   "execution_count": 69,
   "id": "4655f04c",
   "metadata": {},
   "outputs": [
    {
     "name": "stdout",
     "output_type": "stream",
     "text": [
      "(6.2709627, 6.157143179445043, 6.384782250852808)\n",
      "6.885002\n"
     ]
    },
    {
     "data": {
      "text/plain": [
       "[<matplotlib.lines.Line2D at 0x1b813f30550>]"
      ]
     },
     "execution_count": 69,
     "metadata": {},
     "output_type": "execute_result"
    },
    {
     "data": {
      "image/png": "[encoded data removed]",
      "text/plain": [
       "<Figure size 432x288 with 1 Axes>"
      ]
     },
     "metadata": {
      "needs_background": "light"
     },
     "output_type": "display_data"
    }
   ],
   "source": [
    "print(mean_confidence_interval(avg, confidence=0.95))\n",
    "print(max(avg))\n",
    "plt.plot(steps, avg)"
   ]
  },
  {
   "cell_type": "code",
   "execution_count": 72,
   "id": "c910e731",
   "metadata": {},
   "outputs": [
    {
     "name": "stdout",
     "output_type": "stream",
     "text": [
      "[[12, 17, 16, 17, 18, 19, 24, 23, 18, 17, 16, 15, 10, 15, 16, 15, 10, 15, 16, 15, 20, 20, 15, 20, 20, 20], [19, 18, 17, 16, 17, 16, 11, 6, 11, 6, 1, 2, 7, 6, 7, 12, 17, 16, 11, 12, 7, 12, 17, 12, 7, 2], [3, 8, 3, 3, 2, 2, 3, 2, 1, 2, 1, 0, 1, 2, 1, 0, 1, 2, 3, 2, 1, 0, 1, 2, 2, 1], [12, 11, 6, 7, 6, 11, 16, 21, 22, 23, 24, 19, 14, 9, 14, 19, 18, 13, 14, 19, 14, 19, 19, 18, 19, 14]]\n",
      "6.582293\n",
      "##################################\n",
      "Moyenne :  6.582293\n"
     ]
    }
   ],
   "source": [
    "total_return = 0.0\n",
    "episodes = 1\n",
    "for _ in range(episodes):\n",
    "    time_step = eval_env.reset()\n",
    "    episode_return = 0.0\n",
    "    while not time_step.is_last():\n",
    "        actions = []\n",
    "        for i in range(nb_agents):\n",
    "            actions.append(eval_policies[i].action(time_step).action.numpy()[0])\n",
    "        actions = tf.convert_to_tensor([actions])\n",
    "        time_step = eval_env.step(actions)\n",
    "        episode_return += time_step.reward\n",
    "    print(eval_py_env.paths)\n",
    "    print(episode_return.numpy()[0])\n",
    "    print(\"##################################\")\n",
    "    total_return += episode_return\n",
    "avg_return = total_return / episodes\n",
    "print(\"Moyenne : \", avg_return.numpy()[0])"
   ]
  },
  {
   "cell_type": "code",
   "execution_count": null,
   "id": "a8cae41f",
   "metadata": {},
   "outputs": [],
   "source": []
  },
  {
   "cell_type": "code",
   "execution_count": null,
   "id": "8f5a4c3c",
   "metadata": {},
   "outputs": [],
   "source": []
  },
  {
   "cell_type": "code",
   "execution_count": null,
   "id": "5a530733",
   "metadata": {},
   "outputs": [],
   "source": [
    "for i in range(nb_agents):\n",
    "    policies_checkpointers[i].save(global_step=agents_tf[i].train_step_counter)"
   ]
  }
 ],
 "metadata": {
  "kernelspec": {
   "display_name": "Python 3 (ipykernel)",
   "language": "python",
   "name": "python3"
  },
  "language_info": {
   "codemirror_mode": {
    "name": "ipython",
    "version": 3
   },
   "file_extension": ".py",
   "mimetype": "text/x-python",
   "name": "python",
   "nbconvert_exporter": "python",
   "pygments_lexer": "ipython3",
   "version": "3.9.7"
  }
 },
 "nbformat": 4,
 "nbformat_minor": 5
}
